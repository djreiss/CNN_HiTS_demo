{
 "cells": [
  {
   "cell_type": "markdown",
   "metadata": {},
   "source": [
    "# Convolutional Neural Network applied to Transient Detection\n",
    "\n",
    "Updates to use leaky ReLUs from Deep-HiTS paper..."
   ]
  },
  {
   "cell_type": "code",
   "execution_count": 1,
   "metadata": {
    "collapsed": true
   },
   "outputs": [],
   "source": [
    "import numpy as np\n",
    "import gzip\n",
    "import matplotlib.pyplot as plt\n",
    "%matplotlib inline"
   ]
  },
  {
   "cell_type": "markdown",
   "metadata": {},
   "source": [
    "Put data loader into a function, break up potentially into train/valid/test subsets..."
   ]
  },
  {
   "cell_type": "code",
   "execution_count": 2,
   "metadata": {
    "collapsed": true
   },
   "outputs": [],
   "source": [
    "def load_pkl_data(chunk_num, split_frac=(0.8, 0.9), verbose=False):\n",
    "    fname = 'all_chunks/chunk_%d_5000.pkl.gz' % chunk_num\n",
    "    pkl_data = np.load(gzip.GzipFile(fname, 'rb'), encoding='bytes')\n",
    "    if False:\n",
    "        print(pkl_data.keys())\n",
    "        print(pkl_data[b'diff_images'].shape)\n",
    "    \n",
    "    N_data = pkl_data[b'diff_images'].shape[0]\n",
    "    if False:\n",
    "        print(N_data)\n",
    "    X = np.array([pkl_data[b'temp_images'].reshape((N_data, 21, 21)), \n",
    "                 pkl_data[b'sci_images'].reshape((N_data, 21, 21)),\n",
    "                 pkl_data[b'diff_images'].reshape((N_data, 21, 21)),\n",
    "                 pkl_data[b'SNR_images'].reshape((N_data, 21, 21))])\n",
    "    X = np.swapaxes(X, 0, 1)\n",
    "\n",
    "    Y = np.array([np.logical_not(pkl_data[b'labels']), pkl_data[b'labels']]).transpose()\n",
    "    if False:\n",
    "        print(X.shape, Y.shape)\n",
    "        \n",
    "    N_train = int(N_data * split_frac[0])\n",
    "    N_valid = 0\n",
    "    if split_frac[0] < 1.0:\n",
    "        N_valid = int(N_data * split_frac[1])\n",
    "    N_test = 0\n",
    "    if split_frac[1] < 1.0:\n",
    "        N_test  = int(N_data * 1.0)\n",
    "\n",
    "    X_train, Y_train = X[:N_train], Y[:N_train]\n",
    "    X_valid = Y_valid = None\n",
    "    if N_valid > 0:\n",
    "        X_valid, Y_valid = X[N_train:N_valid], Y[N_train:N_valid]\n",
    "    X_test = Y_test = None\n",
    "    if N_test > 0:\n",
    "        X_test, Y_test = X[N_valid:N_test], Y[N_valid:N_test]\n",
    "\n",
    "    if verbose:\n",
    "        print(np.mean(Y[:,0]), np.mean(Y[:,1]))\n",
    "        print(\"Train: \", X_train.shape, Y_train.shape)\n",
    "        if N_valid > 0:\n",
    "            print(\"Valid: \", X_valid.shape, Y_valid.shape)\n",
    "        if N_test > 0:\n",
    "            print(\"Test: \", X_test.shape, Y_test.shape)\n",
    "        \n",
    "    return (X_train, Y_train), (X_valid, Y_valid), (X_test, Y_test)"
   ]
  },
  {
   "cell_type": "markdown",
   "metadata": {},
   "source": [
    "We create a Keras sequential model and compile it."
   ]
  },
  {
   "cell_type": "code",
   "execution_count": 3,
   "metadata": {},
   "outputs": [
    {
     "name": "stderr",
     "output_type": "stream",
     "text": [
      "Using TensorFlow backend.\n"
     ]
    }
   ],
   "source": [
    "from IPython.display import SVG\n",
    "from keras.models import Sequential\n",
    "from keras.layers import Dense, Dropout, Activation, Flatten\n",
    "from keras.layers import Convolution2D, MaxPooling2D, ZeroPadding2D\n",
    "from keras.utils.vis_utils import plot_model, model_to_dot\n",
    "\n",
    "# set dimensions ordering (depth as index 1)\n",
    "import keras\n",
    "keras.backend.set_image_dim_ordering('th')\n",
    "\n",
    "from keras.layers.advanced_activations import LeakyReLU\n",
    "\n",
    "# 0.04 and 0.5 and 1./100000 are params from Deep-HiTS paper\n",
    "# decay = \"reduced by half every 100,000 iterations\"\n",
    "def make_model(compile=True, epochs=100, lrate=0.04, dropout=0.5, decay=1./100000.,\n",
    "              momentum=0.0, use_leaky=True):\n",
    "    model = Sequential()\n",
    "    model.add(ZeroPadding2D((3, 3), input_shape = (4, 21, 21)))\n",
    "    if not use_leaky:\n",
    "        model.add(Convolution2D(32, (4, 4), activation='relu'))\n",
    "    else:\n",
    "        model.add(Convolution2D(32, (4, 4)))\n",
    "        model.add(LeakyReLU(alpha=0.01))\n",
    "    model.add(ZeroPadding2D((1, 1)))\n",
    "    if not use_leaky:\n",
    "        model.add(Convolution2D(32, (3, 3), activation='relu'))\n",
    "    else:\n",
    "        model.add(Convolution2D(32, (3, 3)))\n",
    "        model.add(LeakyReLU(alpha=0.01))\n",
    "    model.add(MaxPooling2D(pool_size=(2, 2)))\n",
    "\n",
    "    model.add(ZeroPadding2D((1, 1)))\n",
    "    if not use_leaky:\n",
    "        model.add(Convolution2D(64, (3, 3), activation='relu'))\n",
    "    else:\n",
    "        model.add(Convolution2D(64, (3, 3)))\n",
    "        model.add(LeakyReLU(alpha=0.01))\n",
    "    model.add(ZeroPadding2D((1, 1)))\n",
    "    if not use_leaky:\n",
    "        model.add(Convolution2D(64, (3, 3), activation='relu'))\n",
    "    else:\n",
    "        model.add(Convolution2D(64, (3, 3)))\n",
    "        model.add(LeakyReLU(alpha=0.01))\n",
    "    model.add(ZeroPadding2D((1, 1)))\n",
    "    if not use_leaky:\n",
    "        model.add(Convolution2D(64, (3, 3), activation='relu'))\n",
    "    else:\n",
    "        model.add(Convolution2D(64, (3, 3)))\n",
    "        model.add(LeakyReLU(alpha=0.01))\n",
    "    model.add(MaxPooling2D(pool_size=(2, 2)))\n",
    "\n",
    "    model.add(Flatten())\n",
    "    if not use_leaky:\n",
    "        model.add(Dense(64, activation='relu'))\n",
    "    else:\n",
    "        model.add(Dense(64))\n",
    "        model.add(LeakyReLU(alpha=0.01))\n",
    "    if dropout is not None:\n",
    "        model.add(Dropout(dropout))\n",
    "    if not use_leaky:\n",
    "        model.add(Dense(64, activation='relu'))\n",
    "    else:\n",
    "        model.add(Dense(64))\n",
    "        model.add(LeakyReLU(alpha=0.01))\n",
    "    if dropout is not None:\n",
    "        model.add(Dropout(dropout))\n",
    "    model.add(Dense(2, activation='softmax'))\n",
    "    \n",
    "    if compile:\n",
    "        # model.compile(loss='mean_squared_error',\n",
    "        #       optimizer='sgd', metrics=['accuracy'])\n",
    "\n",
    "        # initiate RMSprop optimizer (OLD)\n",
    "        #opt = keras.optimizers.rmsprop(lr=0.0001, decay=1e-6)\n",
    "\n",
    "        # Compile model\n",
    "        #epochs = 25\n",
    "        #lrate = 0.01\n",
    "        if decay is None:\n",
    "            if epochs > 2:\n",
    "                decay = lrate/epochs\n",
    "            else:\n",
    "                decay = lrate/100.\n",
    "        opt = keras.optimizers.SGD(lr=lrate, momentum=momentum, decay=decay, nesterov=False)\n",
    "\n",
    "        # Let's train the model using RMSprop\n",
    "        model.compile(loss='mean_squared_error', #categorical_crossentropy',\n",
    "                      optimizer=opt,\n",
    "                      metrics=['accuracy'])\n",
    "\n",
    "    return model"
   ]
  },
  {
   "cell_type": "code",
   "execution_count": 4,
   "metadata": {},
   "outputs": [
    {
     "name": "stdout",
     "output_type": "stream",
     "text": [
      "_________________________________________________________________\n",
      "Layer (type)                 Output Shape              Param #   \n",
      "=================================================================\n",
      "zero_padding2d_1 (ZeroPaddin (None, 4, 27, 27)         0         \n",
      "_________________________________________________________________\n",
      "conv2d_1 (Conv2D)            (None, 32, 24, 24)        2080      \n",
      "_________________________________________________________________\n",
      "leaky_re_lu_1 (LeakyReLU)    (None, 32, 24, 24)        0         \n",
      "_________________________________________________________________\n",
      "zero_padding2d_2 (ZeroPaddin (None, 32, 26, 26)        0         \n",
      "_________________________________________________________________\n",
      "conv2d_2 (Conv2D)            (None, 32, 24, 24)        9248      \n",
      "_________________________________________________________________\n",
      "leaky_re_lu_2 (LeakyReLU)    (None, 32, 24, 24)        0         \n",
      "_________________________________________________________________\n",
      "max_pooling2d_1 (MaxPooling2 (None, 32, 12, 12)        0         \n",
      "_________________________________________________________________\n",
      "zero_padding2d_3 (ZeroPaddin (None, 32, 14, 14)        0         \n",
      "_________________________________________________________________\n",
      "conv2d_3 (Conv2D)            (None, 64, 12, 12)        18496     \n",
      "_________________________________________________________________\n",
      "leaky_re_lu_3 (LeakyReLU)    (None, 64, 12, 12)        0         \n",
      "_________________________________________________________________\n",
      "zero_padding2d_4 (ZeroPaddin (None, 64, 14, 14)        0         \n",
      "_________________________________________________________________\n",
      "conv2d_4 (Conv2D)            (None, 64, 12, 12)        36928     \n",
      "_________________________________________________________________\n",
      "leaky_re_lu_4 (LeakyReLU)    (None, 64, 12, 12)        0         \n",
      "_________________________________________________________________\n",
      "zero_padding2d_5 (ZeroPaddin (None, 64, 14, 14)        0         \n",
      "_________________________________________________________________\n",
      "conv2d_5 (Conv2D)            (None, 64, 12, 12)        36928     \n",
      "_________________________________________________________________\n",
      "leaky_re_lu_5 (LeakyReLU)    (None, 64, 12, 12)        0         \n",
      "_________________________________________________________________\n",
      "max_pooling2d_2 (MaxPooling2 (None, 64, 6, 6)          0         \n",
      "_________________________________________________________________\n",
      "flatten_1 (Flatten)          (None, 2304)              0         \n",
      "_________________________________________________________________\n",
      "dense_1 (Dense)              (None, 64)                147520    \n",
      "_________________________________________________________________\n",
      "leaky_re_lu_6 (LeakyReLU)    (None, 64)                0         \n",
      "_________________________________________________________________\n",
      "dropout_1 (Dropout)          (None, 64)                0         \n",
      "_________________________________________________________________\n",
      "dense_2 (Dense)              (None, 64)                4160      \n",
      "_________________________________________________________________\n",
      "leaky_re_lu_7 (LeakyReLU)    (None, 64)                0         \n",
      "_________________________________________________________________\n",
      "dropout_2 (Dropout)          (None, 64)                0         \n",
      "_________________________________________________________________\n",
      "dense_3 (Dense)              (None, 2)                 130       \n",
      "=================================================================\n",
      "Total params: 255,490.0\n",
      "Trainable params: 255,490.0\n",
      "Non-trainable params: 0.0\n",
      "_________________________________________________________________\n",
      "None\n"
     ]
    }
   ],
   "source": [
    "model = make_model(epochs=25)\n",
    "print(model.summary())"
   ]
  },
  {
   "cell_type": "markdown",
   "metadata": {},
   "source": [
    "Now, we fit our model to the training data-set"
   ]
  },
  {
   "cell_type": "code",
   "execution_count": null,
   "metadata": {
    "collapsed": true
   },
   "outputs": [],
   "source": []
  },
  {
   "cell_type": "code",
   "execution_count": null,
   "metadata": {
    "collapsed": true
   },
   "outputs": [],
   "source": []
  },
  {
   "cell_type": "code",
   "execution_count": null,
   "metadata": {
    "collapsed": true
   },
   "outputs": [],
   "source": []
  },
  {
   "cell_type": "code",
   "execution_count": null,
   "metadata": {
    "collapsed": true
   },
   "outputs": [],
   "source": []
  },
  {
   "cell_type": "code",
   "execution_count": null,
   "metadata": {
    "collapsed": true
   },
   "outputs": [],
   "source": []
  },
  {
   "cell_type": "code",
   "execution_count": 7,
   "metadata": {
    "collapsed": true
   },
   "outputs": [],
   "source": [
    "def run_model(model, train, valid, epochs=25, batch_size=32, data_augmentation=True, \n",
    "              patience=5, **kwargs):\n",
    "    X_train, Y_train = train\n",
    "    X_valid, Y_valid = valid\n",
    "    \n",
    "    from keras.callbacks import EarlyStopping\n",
    "    early_stopping = EarlyStopping(monitor='val_loss', patience=patience)\n",
    "\n",
    "    if not data_augmentation:\n",
    "        if epochs > 2:\n",
    "            print('Not using data augmentation.')\n",
    "        histry = model.fit(X_train, Y_train, batch_size=batch_size, \n",
    "                  epochs=epochs, validation_data=(X_valid, Y_valid),\n",
    "                  shuffle=True, callbacks=[early_stopping], **kwargs)\n",
    "    else:\n",
    "        if epochs > 2:\n",
    "            print('Using real-time data augmentation.')\n",
    "        from keras.preprocessing.image import ImageDataGenerator\n",
    "        # This will do preprocessing and realtime data augmentation:\n",
    "        datagen = ImageDataGenerator(\n",
    "            featurewise_center=False,  # set input mean to 0 over the dataset\n",
    "            samplewise_center=False,  # set each sample mean to 0\n",
    "            featurewise_std_normalization=False,  # divide inputs by std of the dataset\n",
    "            samplewise_std_normalization=False,  # divide each input by its std\n",
    "            zca_whitening=False,  # apply ZCA whitening\n",
    "            rotation_range=0,  # randomly rotate images in the range (degrees, 0 to 180)\n",
    "            width_shift_range=0.,  # randomly shift images horizontally (fraction of total width)\n",
    "            height_shift_range=0.,  # randomly shift images vertically (fraction of total height)\n",
    "            horizontal_flip=True,  # randomly flip images\n",
    "            vertical_flip=True)  # randomly flip images\n",
    "\n",
    "        # Compute quantities required for feature-wise normalization\n",
    "        # (std, mean, and principal components if ZCA whitening is applied).\n",
    "        # datagen.fit(X_train)  # so not needed.\n",
    "\n",
    "        # Fit the model on the batches generated by datagen.flow().\n",
    "        histry = model.fit_generator(datagen.flow(X_train, Y_train, batch_size=batch_size), \n",
    "                            epochs=epochs, validation_data=(X_valid, Y_valid),\n",
    "                            steps_per_epoch=X_train.shape[0] // batch_size,\n",
    "                            callbacks=[early_stopping], **kwargs) \n",
    "        \n",
    "    return model, histry"
   ]
  },
  {
   "cell_type": "raw",
   "metadata": {},
   "source": [
    "seed = 666\n",
    "np.random.seed(seed)\n",
    "model = make_model()\n",
    "model, histry = run_model(model, (X_train, Y_train), (X_valid, Y_valid), data_augmentation=False)"
   ]
  },
  {
   "cell_type": "code",
   "execution_count": 19,
   "metadata": {
    "collapsed": true
   },
   "outputs": [],
   "source": [
    "def plot_misclassified(model, ypred, X_test, Y_test, nmax=10, only_plot_misclassified=True):\n",
    "    ytest = Y_test[:, 1].astype(int)\n",
    "\n",
    "    N_plot = nmax\n",
    "    only_plot_wrong = only_plot_misclassified\n",
    "    if not only_plot_wrong:\n",
    "        plot_inds = range(N_plot)\n",
    "    else:\n",
    "        plot_inds = np.where(ypred != ytest)[0]\n",
    "        print(\"Incorrectly classified: %d of %d\" % (len(plot_inds), len(ypred)))\n",
    "        if len(plot_inds) > N_plot:\n",
    "            plot_inds = plot_inds[:N_plot]\n",
    "    N_plot = len(plot_inds)\n",
    "\n",
    "    plt.clf()\n",
    "    fig, axes = plt.subplots(N_plot, 4, figsize=(4, N_plot*1.2),\n",
    "                            subplot_kw={'xticks': [], 'yticks': []})\n",
    "    i = 0\n",
    "    for ind in plot_inds:\n",
    "        axes.flat[4*i].imshow(X_test[ind][0], interpolation = \"none\")\n",
    "        axes.flat[4*i + 1].imshow(X_test[ind][1], interpolation = \"none\")\n",
    "        axes.flat[4*i + 2].imshow(X_test[ind][2], interpolation = \"none\")\n",
    "        axes.flat[4*i + 3].imshow(X_test[ind][3], interpolation = \"none\")\n",
    "\n",
    "        axes.flat[4*i + 3].set_title (\"predicted pbb = \" + str(np.round(ypred[ind], 2)) + \n",
    "                                      \", label = \" + str(ytest[ind]))\n",
    "        i += 1\n",
    "    plt.show()"
   ]
  },
  {
   "cell_type": "code",
   "execution_count": null,
   "metadata": {
    "collapsed": true
   },
   "outputs": [],
   "source": []
  },
  {
   "cell_type": "code",
   "execution_count": null,
   "metadata": {
    "collapsed": true
   },
   "outputs": [],
   "source": []
  },
  {
   "cell_type": "code",
   "execution_count": null,
   "metadata": {
    "collapsed": true
   },
   "outputs": [],
   "source": []
  },
  {
   "cell_type": "code",
   "execution_count": null,
   "metadata": {
    "collapsed": true
   },
   "outputs": [],
   "source": []
  },
  {
   "cell_type": "markdown",
   "metadata": {},
   "source": [
    "Now try fitting a large number of data in batches:"
   ]
  },
  {
   "cell_type": "markdown",
   "metadata": {},
   "source": [
    "Try using `fit_generator()` with a data generator."
   ]
  },
  {
   "cell_type": "code",
   "execution_count": 11,
   "metadata": {
    "collapsed": true
   },
   "outputs": [],
   "source": [
    "from keras.preprocessing.image import ImageDataGenerator\n",
    "\n",
    "# This will do preprocessing and realtime data augmentation.\n",
    "# Here we only do flips. This keeps things like bad columns vertical.\n",
    "imageDatagen = ImageDataGenerator(\n",
    "    featurewise_center=False,  # set input mean to 0 over the dataset\n",
    "    samplewise_center=False,  # set each sample mean to 0\n",
    "    featurewise_std_normalization=False,  # divide inputs by std of the dataset\n",
    "    samplewise_std_normalization=False,  # divide each input by its std\n",
    "    zca_whitening=False,  # apply ZCA whitening\n",
    "    rotation_range=0,  # randomly rotate images in the range (degrees, 0 to 180)\n",
    "    width_shift_range=0.,  # randomly shift images horizontally (fraction of total width)\n",
    "    height_shift_range=0.,  # randomly shift images vertically (fraction of total height)\n",
    "    horizontal_flip=True,  # randomly flip images\n",
    "    vertical_flip=True)  # randomly flip images"
   ]
  },
  {
   "cell_type": "code",
   "execution_count": 29,
   "metadata": {
    "collapsed": true
   },
   "outputs": [],
   "source": [
    "batch_size = 32\n",
    "seed = 666\n",
    "\n",
    "def data_generator_train():\n",
    "    data_range = np.arange(150)  # use inds 0-150 for training\n",
    "    while True:\n",
    "        chunk = np.random.choice(data_range, size=1)[0]\n",
    "        print(' TRAIN:', chunk)\n",
    "        (X, Y), _, _ = load_pkl_data(chunk, split_frac=(1.0, 1.0), verbose=False)\n",
    "        for i in range(X.shape[0]//batch_size):  # about 5000/32 = 150\n",
    "            Xb, Yb = imageDatagen.flow(X, Y, batch_size=batch_size).next()\n",
    "            yield (Xb, Yb)\n",
    "\n",
    "# Question: Do we want to use the imageDatagen on validation and test data???\n",
    "# Let's say, no, so make a new data generator that basically does nothing except make batches.\n",
    "# Note these are all the default parameters, so `ImageDataGenerator()` would work too.\n",
    "\n",
    "validTestDataGen = ImageDataGenerator(\n",
    "    featurewise_center=False,  # set input mean to 0 over the dataset\n",
    "    samplewise_center=False,  # set each sample mean to 0\n",
    "    featurewise_std_normalization=False,  # divide inputs by std of the dataset\n",
    "    samplewise_std_normalization=False,  # divide each input by its std\n",
    "    zca_whitening=False,  # apply ZCA whitening\n",
    "    rotation_range=0,  # randomly rotate images in the range (degrees, 0 to 180)\n",
    "    width_shift_range=0.,  # randomly shift images horizontally (fraction of total width)\n",
    "    height_shift_range=0.,  # randomly shift images vertically (fraction of total height)\n",
    "    horizontal_flip=False,  # randomly flip images\n",
    "    vertical_flip=False)  # randomly flip images\n",
    "\n",
    "def data_generator_valid():\n",
    "    data_range = np.arange(151, 235)  # use inds 151-234 for validation\n",
    "    while True:\n",
    "        chunk = np.random.choice(data_range, size=1)[0]\n",
    "        print(' VALID:', chunk)\n",
    "        (X, Y), _, _ = load_pkl_data(chunk, split_frac=(1.0, 1.0), verbose=False)\n",
    "        for i in range(X.shape[0]//batch_size): # about 5000/32 = 150\n",
    "            Xb, Yb = validTestDataGen.flow(X, Y, batch_size=batch_size).next()\n",
    "            yield (Xb, Yb)\n",
    "        \n",
    "# Then we can use inds 235-284 as test data.\n",
    "def data_generator_test():\n",
    "    data_range = np.arange(235, 285)  # use inds 235-284 for test\n",
    "    while True:\n",
    "        chunk = np.random.choice(data_range, size=1)[0]\n",
    "        print(' TEST:', chunk)\n",
    "        (X, Y), _, _ = load_pkl_data(chunk, split_frac=(1.0, 1.0), verbose=False)\n",
    "        for i in range(X.shape[0]//batch_size): # about 5000/32 = 150\n",
    "            Xb, Yb = validTestDataGen.flow(X, Y, batch_size=batch_size).next()\n",
    "            yield (Xb, Yb)"
   ]
  },
  {
   "cell_type": "markdown",
   "metadata": {},
   "source": [
    "Trick to get this to work is make `steps_per_epoch` greater than (or approx. equal to)  `X.shape[0]//batch_size` so that it reads in multiple data sets per epoch. The point is, don't make `steps_per_epoch` too small, or it will only work on a few data sets over many epochs. Then make `validation_steps` also be big to use many batches of validation data (probably want it to also be greater than `X.shape[0]//batch_size`)."
   ]
  },
  {
   "cell_type": "code",
   "execution_count": 7,
   "metadata": {
    "collapsed": true
   },
   "outputs": [],
   "source": [
    "# Here's an example of how to track the learning rate.\n",
    "# Taken from here: https://github.com/fchollet/keras/issues/2823\n",
    "\n",
    "import keras.backend as kbackend\n",
    "\n",
    "class SGDLearningRateTracker(keras.callbacks.Callback):\n",
    "    def on_epoch_end(self, epoch, logs={}):\n",
    "        optimizer = self.model.optimizer\n",
    "        lr = kbackend.eval(optimizer.lr * (1. / (1. + optimizer.decay * optimizer.iterations)))\n",
    "        print('\\nLR: {:.6f}\\n'.format(lr))"
   ]
  },
  {
   "cell_type": "code",
   "execution_count": 13,
   "metadata": {
    "scrolled": true
   },
   "outputs": [
    {
     "name": "stdout",
     "output_type": "stream",
     "text": [
      " TRAIN:Epoch 1/10000 \n",
      "17\n",
      " 152/5000 [..............................] - ETA: 1322s - loss: 0.1124 - acc: 0.8509 TRAIN: 77\n",
      " 312/5000 [>.............................] - ETA: 1263s - loss: 0.0879 - acc: 0.8891 TRAIN: 72\n",
      " 469/5000 [=>............................] - ETA: 1239s - loss: 0.0700 - acc: 0.9132 TRAIN: 21\n",
      " 627/5000 [==>...........................] - ETA: 1181s - loss: 0.0621 - acc: 0.9240 TRAIN: 67\n",
      " 785/5000 [===>..........................] - ETA: 1122s - loss: 0.0555 - acc: 0.9333 TRAIN: 19\n",
      " 942/5000 [====>.........................] - ETA: 1075s - loss: 0.0504 - acc: 0.9400 TRAIN: 146\n",
      "1100/5000 [=====>........................] - ETA: 1037s - loss: 0.0461 - acc: 0.9454 TRAIN: 2\n",
      "1256/5000 [======>.......................] - ETA: 990s - loss: 0.0442 - acc: 0.9480 TRAIN: 28\n",
      "1414/5000 [=======>......................] - ETA: 952s - loss: 0.0451 - acc: 0.9474 TRAIN: 20\n",
      "1570/5000 [========>.....................] - ETA: 919s - loss: 0.0435 - acc: 0.9493 TRAIN: 116\n",
      "1726/5000 [=========>....................] - ETA: 876s - loss: 0.0417 - acc: 0.9515 TRAIN: 101\n",
      "1885/5000 [==========>...................] - ETA: 837s - loss: 0.0399 - acc: 0.9537 TRAIN: 141\n",
      "2041/5000 [===========>..................] - ETA: 804s - loss: 0.0388 - acc: 0.9552 TRAIN: 20\n",
      "2197/5000 [============>.................] - ETA: 764s - loss: 0.0378 - acc: 0.9564 TRAIN: 146\n",
      "2355/5000 [=============>................] - ETA: 721s - loss: 0.0361 - acc: 0.9585 TRAIN: 100\n",
      "2512/5000 [==============>...............] - ETA: 676s - loss: 0.0352 - acc: 0.9596 TRAIN: 32\n",
      "2668/5000 [===============>..............] - ETA: 629s - loss: 0.0342 - acc: 0.9608 TRAIN: 81\n",
      "2824/5000 [===============>..............] - ETA: 586s - loss: 0.0335 - acc: 0.9617 TRAIN: 68\n",
      "2980/5000 [================>.............] - ETA: 543s - loss: 0.0333 - acc: 0.9620 TRAIN: 87\n",
      "3142/5000 [=================>............] - ETA: 498s - loss: 0.0327 - acc: 0.9627 TRAIN: 80\n",
      "3300/5000 [==================>...........] - ETA: 459s - loss: 0.0325 - acc: 0.9631 TRAIN: 144\n",
      "3456/5000 [===================>..........] - ETA: 418s - loss: 0.0318 - acc: 0.9638 TRAIN: 86\n",
      "3612/5000 [====================>.........] - ETA: 376s - loss: 0.0313 - acc: 0.9644 TRAIN: 20\n",
      "3768/5000 [=====================>........] - ETA: 334s - loss: 0.0309 - acc: 0.9650 TRAIN: 43\n",
      "3926/5000 [======================>.......] - ETA: 290s - loss: 0.0303 - acc: 0.9657 TRAIN: 100\n",
      "4083/5000 [=======================>......] - ETA: 247s - loss: 0.0297 - acc: 0.9664 TRAIN: 24\n",
      "4241/5000 [========================>.....] - ETA: 205s - loss: 0.0292 - acc: 0.9670 TRAIN: 140\n",
      "4397/5000 [=========================>....] - ETA: 163s - loss: 0.0290 - acc: 0.9672 TRAIN: 127\n",
      "4554/5000 [==========================>...] - ETA: 120s - loss: 0.0288 - acc: 0.9674 TRAIN: 71\n",
      "4711/5000 [===========================>..] - ETA: 78s - loss: 0.0285 - acc: 0.9679 TRAIN: 50\n",
      "4870/5000 [============================>.] - ETA: 35s - loss: 0.0285 - acc: 0.9679 TRAIN: 1\n",
      "4999/5000 [============================>.] - ETA: 0s - loss: 0.0282 - acc: 0.9683 VALID: 159\n",
      " VALID: 207\n",
      " VALID: 194\n",
      " VALID: 181\n",
      "Epoch 00000: val_loss improved from inf to 0.01753, saving model to ./best_model.hdf5\n",
      "\n",
      "LR: 0.038095\n",
      "\n",
      "5000/5000 [==============================] - 1405s - loss: 0.0282 - acc: 0.9683 - val_loss: 0.0175 - val_acc: 0.9811\n",
      "Epoch 2/10000\n",
      "  28/5000 [..............................] - ETA: 1136s - loss: 0.0230 - acc: 0.9766 TRAIN: 110\n",
      " 187/5000 [>.............................] - ETA: 1134s - loss: 0.0184 - acc: 0.9804 TRAIN: 49\n",
      " 345/5000 [=>............................] - ETA: 1113s - loss: 0.0163 - acc: 0.9829 TRAIN: 8\n",
      " 501/5000 [==>...........................] - ETA: 1086s - loss: 0.0173 - acc: 0.9821 TRAIN: 125\n",
      " 662/5000 [==>...........................] - ETA: 1043s - loss: 0.0172 - acc: 0.9819 TRAIN: 112\n",
      " 819/5000 [===>..........................] - ETA: 1025s - loss: 0.0185 - acc: 0.9805 TRAIN: 76\n",
      " 977/5000 [====>.........................] - ETA: 986s - loss: 0.0196 - acc: 0.9794 TRAIN: 21\n",
      "1135/5000 [=====>........................] - ETA: 943s - loss: 0.0188 - acc: 0.9800 TRAIN: 29\n",
      "1292/5000 [======>.......................] - ETA: 905s - loss: 0.0186 - acc: 0.9802 TRAIN: 15\n",
      "1448/5000 [=======>......................] - ETA: 868s - loss: 0.0191 - acc: 0.9796 TRAIN: 123\n",
      "1605/5000 [========>.....................] - ETA: 830s - loss: 0.0193 - acc: 0.9794 TRAIN: 41\n",
      "1763/5000 [=========>....................] - ETA: 789s - loss: 0.0195 - acc: 0.9792 TRAIN: 139\n",
      "1922/5000 [==========>...................] - ETA: 752s - loss: 0.0194 - acc: 0.9792 TRAIN: 8\n",
      "2078/5000 [===========>..................] - ETA: 714s - loss: 0.0192 - acc: 0.9794 TRAIN: 36\n",
      "2238/5000 [============>.................] - ETA: 676s - loss: 0.0192 - acc: 0.9795 TRAIN: 131\n",
      "2394/5000 [=============>................] - ETA: 645s - loss: 0.0187 - acc: 0.9801 TRAIN: 38\n",
      "2553/5000 [==============>...............] - ETA: 608s - loss: 0.0190 - acc: 0.9797 TRAIN: 93\n",
      "2709/5000 [===============>..............] - ETA: 570s - loss: 0.0193 - acc: 0.9794 TRAIN: 5\n",
      "2870/5000 [================>.............] - ETA: 533s - loss: 0.0192 - acc: 0.9794 TRAIN: 128\n",
      "3027/5000 [=================>............] - ETA: 496s - loss: 0.0189 - acc: 0.9798 TRAIN: 79\n",
      "3188/5000 [==================>...........] - ETA: 455s - loss: 0.0186 - acc: 0.9800 TRAIN: 83\n",
      "3345/5000 [===================>..........] - ETA: 419s - loss: 0.0187 - acc: 0.9800 TRAIN: 23\n",
      "3505/5000 [====================>.........] - ETA: 380s - loss: 0.0188 - acc: 0.9798 TRAIN: 6\n",
      "3662/5000 [====================>.........] - ETA: 341s - loss: 0.0188 - acc: 0.9798 TRAIN: 35\n",
      "3819/5000 [=====================>........] - ETA: 302s - loss: 0.0185 - acc: 0.9802 TRAIN: 101\n",
      "3978/5000 [======================>.......] - ETA: 261s - loss: 0.0183 - acc: 0.9804 TRAIN: 131\n",
      "4134/5000 [=======================>......] - ETA: 220s - loss: 0.0182 - acc: 0.9805 TRAIN: 149\n",
      "4297/5000 [========================>.....] - ETA: 179s - loss: 0.0179 - acc: 0.9808 TRAIN: 117\n",
      "4453/5000 [=========================>....] - ETA: 139s - loss: 0.0178 - acc: 0.9809 TRAIN: 64\n",
      "4612/5000 [==========================>...] - ETA: 99s - loss: 0.0178 - acc: 0.9809 TRAIN: 133\n",
      "4772/5000 [===========================>..] - ETA: 58s - loss: 0.0178 - acc: 0.9809 TRAIN: 16\n",
      "4932/5000 [============================>.] - ETA: 17s - loss: 0.0179 - acc: 0.9808 TRAIN: 47\n",
      "4999/5000 [============================>.] - ETA: 0s - loss: 0.0179 - acc: 0.9808 VALID: 220\n",
      " VALID: 220\n",
      " VALID: 188\n",
      "Epoch 00001: val_loss improved from 0.01753 to 0.01386, saving model to ./best_model.hdf5\n",
      "\n",
      "LR: 0.036364\n",
      "\n",
      "5000/5000 [==============================] - 1350s - loss: 0.0179 - acc: 0.9807 - val_loss: 0.0139 - val_acc: 0.9834\n",
      "Epoch 3/10000\n",
      "  89/5000 [..............................] - ETA: 1267s - loss: 0.0196 - acc: 0.9793 TRAIN: 131\n",
      " 245/5000 [>.............................] - ETA: 1382s - loss: 0.0148 - acc: 0.9846 TRAIN: 135\n",
      " 404/5000 [=>............................] - ETA: 1297s - loss: 0.0157 - acc: 0.9833 TRAIN: 127\n",
      " 561/5000 [==>...........................] - ETA: 1217s - loss: 0.0160 - acc: 0.9824 TRAIN: 11\n",
      " 723/5000 [===>..........................] - ETA: 1163s - loss: 0.0148 - acc: 0.9838 TRAIN: 146\n",
      " 881/5000 [====>.........................] - ETA: 1105s - loss: 0.0137 - acc: 0.9850 TRAIN: 30\n",
      "1040/5000 [=====>........................] - ETA: 1083s - loss: 0.0140 - acc: 0.9844 TRAIN: 61\n",
      "1196/5000 [======>.......................] - ETA: 1038s - loss: 0.0149 - acc: 0.9834 TRAIN: 17\n",
      "1358/5000 [=======>......................] - ETA: 984s - loss: 0.0148 - acc: 0.9836 TRAIN: 85\n",
      "1516/5000 [========>.....................] - ETA: 942s - loss: 0.0152 - acc: 0.9832 TRAIN: 12\n",
      "1672/5000 [=========>....................] - ETA: 907s - loss: 0.0153 - acc: 0.9833 TRAIN: 0\n",
      "1834/5000 [==========>...................] - ETA: 863s - loss: 0.0152 - acc: 0.9834 TRAIN: 149\n",
      "1997/5000 [==========>...................] - ETA: 817s - loss: 0.0149 - acc: 0.9837 TRAIN: 17\n",
      "2159/5000 [===========>..................] - ETA: 773s - loss: 0.0148 - acc: 0.9838 TRAIN: 139\n",
      "2318/5000 [============>.................] - ETA: 729s - loss: 0.0150 - acc: 0.9836 TRAIN: 132\n",
      "2474/5000 [=============>................] - ETA: 686s - loss: 0.0150 - acc: 0.9835 TRAIN: 129\n"
     ]
    },
    {
     "name": "stdout",
     "output_type": "stream",
     "text": [
      "2632/5000 [==============>...............] - ETA: 641s - loss: 0.0153 - acc: 0.9832 TRAIN: 112\n",
      "2789/5000 [===============>..............] - ETA: 594s - loss: 0.0155 - acc: 0.9830 TRAIN 49\n",
      "2947/5000 [================>.............] - ETA: 548s - loss: 0.0155 - acc: 0.9830 TRAIN: 75\n",
      "3105/5000 [=================>............] - ETA: 507s - loss: 0.0155 - acc: 0.9831 TRAIN: 19\n",
      "3262/5000 [==================>...........] - ETA: 468s - loss: 0.0154 - acc: 0.9832 TRAIN: 112\n",
      "3419/5000 [===================>..........] - ETA: 424s - loss: 0.0155 - acc: 0.9831 TRAIN: 101\n",
      "3578/5000 [====================>.........] - ETA: 380s - loss: 0.0152 - acc: 0.9833 TRAIN: 107\n",
      "3738/5000 [=====================>........] - ETA: 336s - loss: 0.0153 - acc: 0.9833 TRAIN: 3\n",
      "3896/5000 [======================>.......] - ETA: 292s - loss: 0.0167 - acc: 0.9818 TRAIN: 108\n",
      "4055/5000 [=======================>......] - ETA: 249s - loss: 0.0165 - acc: 0.9820 TRAIN: 110\n",
      "4214/5000 [========================>.....] - ETA: 207s - loss: 0.0163 - acc: 0.9822 TRAIN: 64\n",
      "4373/5000 [=========================>....] - ETA: 164s - loss: 0.0163 - acc: 0.9822 TRAIN: 1\n",
      "4531/5000 [==========================>...] - ETA: 122s - loss: 0.0162 - acc: 0.9822 TRAIN: 109\n",
      "4687/5000 [===========================>..] - ETA: 81s - loss: 0.0162 - acc: 0.9823 TRAIN: 117\n",
      "4843/5000 [============================>.] - ETA: 41s - loss: 0.0160 - acc: 0.9825 TRAIN: 124\n",
      "4999/5000 [============================>.] - ETA: 0s - loss: 0.0158 - acc: 0.9827 VALID: 205\n",
      " VALID: 219\n",
      " VALID: 166\n",
      "Epoch 00002: val_loss improved from 0.01386 to 0.01280, saving model to ./best_model.hdf5\n",
      "\n",
      "LR: 0.034783\n",
      "\n",
      "5000/5000 [==============================] - 1365s - loss: 0.0158 - acc: 0.9827 - val_loss: 0.0128 - val_acc: 0.9861\n",
      "Epoch 4/10000\n",
      " TRAIN: 98\n",
      " 113/5000 [..............................] - ETA: 1158s - loss: 0.0102 - acc: 0.9878"
     ]
    },
    {
     "ename": "KeyboardInterrupt",
     "evalue": "",
     "output_type": "error",
     "traceback": [
      "\u001b[0;31m---------------------------------------------------------------------------\u001b[0m",
      "\u001b[0;31mKeyboardInterrupt\u001b[0m                         Traceback (most recent call last)",
      "\u001b[0;32m<ipython-input-13-9eb721a08d87>\u001b[0m in \u001b[0;36m<module>\u001b[0;34m()\u001b[0m\n\u001b[1;32m     19\u001b[0m                     \u001b[0;31m#datagen.flow(X_train, Y_train, batch_size=batch_size),\u001b[0m\u001b[0;34m\u001b[0m\u001b[0;34m\u001b[0m\u001b[0m\n\u001b[1;32m     20\u001b[0m                     \u001b[0mepochs\u001b[0m\u001b[0;34m=\u001b[0m\u001b[0mepochs\u001b[0m\u001b[0;34m,\u001b[0m \u001b[0msteps_per_epoch\u001b[0m\u001b[0;34m=\u001b[0m\u001b[0;36m5000\u001b[0m\u001b[0;34m,\u001b[0m\u001b[0;34m\u001b[0m\u001b[0m\n\u001b[0;32m---> 21\u001b[0;31m                     callbacks=[early_stopping, checkpointing, rateChecking], workers=1)\n\u001b[0m",
      "\u001b[0;32m/Users/dreiss/miniconda3/lib/python3.6/site-packages/keras/legacy/interfaces.py\u001b[0m in \u001b[0;36mwrapper\u001b[0;34m(*args, **kwargs)\u001b[0m\n\u001b[1;32m     86\u001b[0m                 warnings.warn('Update your `' + object_name +\n\u001b[1;32m     87\u001b[0m                               '` call to the Keras 2 API: ' + signature, stacklevel=2)\n\u001b[0;32m---> 88\u001b[0;31m             \u001b[0;32mreturn\u001b[0m \u001b[0mfunc\u001b[0m\u001b[0;34m(\u001b[0m\u001b[0;34m*\u001b[0m\u001b[0margs\u001b[0m\u001b[0;34m,\u001b[0m \u001b[0;34m**\u001b[0m\u001b[0mkwargs\u001b[0m\u001b[0;34m)\u001b[0m\u001b[0;34m\u001b[0m\u001b[0m\n\u001b[0m\u001b[1;32m     89\u001b[0m         \u001b[0mwrapper\u001b[0m\u001b[0;34m.\u001b[0m\u001b[0m_legacy_support_signature\u001b[0m \u001b[0;34m=\u001b[0m \u001b[0minspect\u001b[0m\u001b[0;34m.\u001b[0m\u001b[0mgetargspec\u001b[0m\u001b[0;34m(\u001b[0m\u001b[0mfunc\u001b[0m\u001b[0;34m)\u001b[0m\u001b[0;34m\u001b[0m\u001b[0m\n\u001b[1;32m     90\u001b[0m         \u001b[0;32mreturn\u001b[0m \u001b[0mwrapper\u001b[0m\u001b[0;34m\u001b[0m\u001b[0m\n",
      "\u001b[0;32m/Users/dreiss/miniconda3/lib/python3.6/site-packages/keras/models.py\u001b[0m in \u001b[0;36mfit_generator\u001b[0;34m(self, generator, steps_per_epoch, epochs, verbose, callbacks, validation_data, validation_steps, class_weight, max_q_size, workers, pickle_safe, initial_epoch)\u001b[0m\n\u001b[1;32m   1095\u001b[0m                                         \u001b[0mworkers\u001b[0m\u001b[0;34m=\u001b[0m\u001b[0mworkers\u001b[0m\u001b[0;34m,\u001b[0m\u001b[0;34m\u001b[0m\u001b[0m\n\u001b[1;32m   1096\u001b[0m                                         \u001b[0mpickle_safe\u001b[0m\u001b[0;34m=\u001b[0m\u001b[0mpickle_safe\u001b[0m\u001b[0;34m,\u001b[0m\u001b[0;34m\u001b[0m\u001b[0m\n\u001b[0;32m-> 1097\u001b[0;31m                                         initial_epoch=initial_epoch)\n\u001b[0m\u001b[1;32m   1098\u001b[0m \u001b[0;34m\u001b[0m\u001b[0m\n\u001b[1;32m   1099\u001b[0m     \u001b[0;34m@\u001b[0m\u001b[0minterfaces\u001b[0m\u001b[0;34m.\u001b[0m\u001b[0mlegacy_generator_methods_support\u001b[0m\u001b[0;34m\u001b[0m\u001b[0m\n",
      "\u001b[0;32m/Users/dreiss/miniconda3/lib/python3.6/site-packages/keras/legacy/interfaces.py\u001b[0m in \u001b[0;36mwrapper\u001b[0;34m(*args, **kwargs)\u001b[0m\n\u001b[1;32m     86\u001b[0m                 warnings.warn('Update your `' + object_name +\n\u001b[1;32m     87\u001b[0m                               '` call to the Keras 2 API: ' + signature, stacklevel=2)\n\u001b[0;32m---> 88\u001b[0;31m             \u001b[0;32mreturn\u001b[0m \u001b[0mfunc\u001b[0m\u001b[0;34m(\u001b[0m\u001b[0;34m*\u001b[0m\u001b[0margs\u001b[0m\u001b[0;34m,\u001b[0m \u001b[0;34m**\u001b[0m\u001b[0mkwargs\u001b[0m\u001b[0;34m)\u001b[0m\u001b[0;34m\u001b[0m\u001b[0m\n\u001b[0m\u001b[1;32m     89\u001b[0m         \u001b[0mwrapper\u001b[0m\u001b[0;34m.\u001b[0m\u001b[0m_legacy_support_signature\u001b[0m \u001b[0;34m=\u001b[0m \u001b[0minspect\u001b[0m\u001b[0;34m.\u001b[0m\u001b[0mgetargspec\u001b[0m\u001b[0;34m(\u001b[0m\u001b[0mfunc\u001b[0m\u001b[0;34m)\u001b[0m\u001b[0;34m\u001b[0m\u001b[0m\n\u001b[1;32m     90\u001b[0m         \u001b[0;32mreturn\u001b[0m \u001b[0mwrapper\u001b[0m\u001b[0;34m\u001b[0m\u001b[0m\n",
      "\u001b[0;32m/Users/dreiss/miniconda3/lib/python3.6/site-packages/keras/engine/training.py\u001b[0m in \u001b[0;36mfit_generator\u001b[0;34m(self, generator, steps_per_epoch, epochs, verbose, callbacks, validation_data, validation_steps, class_weight, max_q_size, workers, pickle_safe, initial_epoch)\u001b[0m\n\u001b[1;32m   1874\u001b[0m                     outs = self.train_on_batch(x, y,\n\u001b[1;32m   1875\u001b[0m                                                \u001b[0msample_weight\u001b[0m\u001b[0;34m=\u001b[0m\u001b[0msample_weight\u001b[0m\u001b[0;34m,\u001b[0m\u001b[0;34m\u001b[0m\u001b[0m\n\u001b[0;32m-> 1876\u001b[0;31m                                                class_weight=class_weight)\n\u001b[0m\u001b[1;32m   1877\u001b[0m \u001b[0;34m\u001b[0m\u001b[0m\n\u001b[1;32m   1878\u001b[0m                     \u001b[0;32mif\u001b[0m \u001b[0;32mnot\u001b[0m \u001b[0misinstance\u001b[0m\u001b[0;34m(\u001b[0m\u001b[0mouts\u001b[0m\u001b[0;34m,\u001b[0m \u001b[0mlist\u001b[0m\u001b[0;34m)\u001b[0m\u001b[0;34m:\u001b[0m\u001b[0;34m\u001b[0m\u001b[0m\n",
      "\u001b[0;32m/Users/dreiss/miniconda3/lib/python3.6/site-packages/keras/engine/training.py\u001b[0m in \u001b[0;36mtrain_on_batch\u001b[0;34m(self, x, y, sample_weight, class_weight)\u001b[0m\n\u001b[1;32m   1618\u001b[0m             \u001b[0mins\u001b[0m \u001b[0;34m=\u001b[0m \u001b[0mx\u001b[0m \u001b[0;34m+\u001b[0m \u001b[0my\u001b[0m \u001b[0;34m+\u001b[0m \u001b[0msample_weights\u001b[0m\u001b[0;34m\u001b[0m\u001b[0m\n\u001b[1;32m   1619\u001b[0m         \u001b[0mself\u001b[0m\u001b[0;34m.\u001b[0m\u001b[0m_make_train_function\u001b[0m\u001b[0;34m(\u001b[0m\u001b[0;34m)\u001b[0m\u001b[0;34m\u001b[0m\u001b[0m\n\u001b[0;32m-> 1620\u001b[0;31m         \u001b[0moutputs\u001b[0m \u001b[0;34m=\u001b[0m \u001b[0mself\u001b[0m\u001b[0;34m.\u001b[0m\u001b[0mtrain_function\u001b[0m\u001b[0;34m(\u001b[0m\u001b[0mins\u001b[0m\u001b[0;34m)\u001b[0m\u001b[0;34m\u001b[0m\u001b[0m\n\u001b[0m\u001b[1;32m   1621\u001b[0m         \u001b[0;32mif\u001b[0m \u001b[0mlen\u001b[0m\u001b[0;34m(\u001b[0m\u001b[0moutputs\u001b[0m\u001b[0;34m)\u001b[0m \u001b[0;34m==\u001b[0m \u001b[0;36m1\u001b[0m\u001b[0;34m:\u001b[0m\u001b[0;34m\u001b[0m\u001b[0m\n\u001b[1;32m   1622\u001b[0m             \u001b[0;32mreturn\u001b[0m \u001b[0moutputs\u001b[0m\u001b[0;34m[\u001b[0m\u001b[0;36m0\u001b[0m\u001b[0;34m]\u001b[0m\u001b[0;34m\u001b[0m\u001b[0m\n",
      "\u001b[0;32m/Users/dreiss/miniconda3/lib/python3.6/site-packages/keras/backend/tensorflow_backend.py\u001b[0m in \u001b[0;36m__call__\u001b[0;34m(self, inputs)\u001b[0m\n\u001b[1;32m   2071\u001b[0m         \u001b[0msession\u001b[0m \u001b[0;34m=\u001b[0m \u001b[0mget_session\u001b[0m\u001b[0;34m(\u001b[0m\u001b[0;34m)\u001b[0m\u001b[0;34m\u001b[0m\u001b[0m\n\u001b[1;32m   2072\u001b[0m         updated = session.run(self.outputs + [self.updates_op],\n\u001b[0;32m-> 2073\u001b[0;31m                               feed_dict=feed_dict)\n\u001b[0m\u001b[1;32m   2074\u001b[0m         \u001b[0;32mreturn\u001b[0m \u001b[0mupdated\u001b[0m\u001b[0;34m[\u001b[0m\u001b[0;34m:\u001b[0m\u001b[0mlen\u001b[0m\u001b[0;34m(\u001b[0m\u001b[0mself\u001b[0m\u001b[0;34m.\u001b[0m\u001b[0moutputs\u001b[0m\u001b[0;34m)\u001b[0m\u001b[0;34m]\u001b[0m\u001b[0;34m\u001b[0m\u001b[0m\n\u001b[1;32m   2075\u001b[0m \u001b[0;34m\u001b[0m\u001b[0m\n",
      "\u001b[0;32m/Users/dreiss/miniconda3/lib/python3.6/site-packages/tensorflow/python/client/session.py\u001b[0m in \u001b[0;36mrun\u001b[0;34m(self, fetches, feed_dict, options, run_metadata)\u001b[0m\n\u001b[1;32m    765\u001b[0m     \u001b[0;32mtry\u001b[0m\u001b[0;34m:\u001b[0m\u001b[0;34m\u001b[0m\u001b[0m\n\u001b[1;32m    766\u001b[0m       result = self._run(None, fetches, feed_dict, options_ptr,\n\u001b[0;32m--> 767\u001b[0;31m                          run_metadata_ptr)\n\u001b[0m\u001b[1;32m    768\u001b[0m       \u001b[0;32mif\u001b[0m \u001b[0mrun_metadata\u001b[0m\u001b[0;34m:\u001b[0m\u001b[0;34m\u001b[0m\u001b[0m\n\u001b[1;32m    769\u001b[0m         \u001b[0mproto_data\u001b[0m \u001b[0;34m=\u001b[0m \u001b[0mtf_session\u001b[0m\u001b[0;34m.\u001b[0m\u001b[0mTF_GetBuffer\u001b[0m\u001b[0;34m(\u001b[0m\u001b[0mrun_metadata_ptr\u001b[0m\u001b[0;34m)\u001b[0m\u001b[0;34m\u001b[0m\u001b[0m\n",
      "\u001b[0;32m/Users/dreiss/miniconda3/lib/python3.6/site-packages/tensorflow/python/client/session.py\u001b[0m in \u001b[0;36m_run\u001b[0;34m(self, handle, fetches, feed_dict, options, run_metadata)\u001b[0m\n\u001b[1;32m    963\u001b[0m     \u001b[0;32mif\u001b[0m \u001b[0mfinal_fetches\u001b[0m \u001b[0;32mor\u001b[0m \u001b[0mfinal_targets\u001b[0m\u001b[0;34m:\u001b[0m\u001b[0;34m\u001b[0m\u001b[0m\n\u001b[1;32m    964\u001b[0m       results = self._do_run(handle, final_targets, final_fetches,\n\u001b[0;32m--> 965\u001b[0;31m                              feed_dict_string, options, run_metadata)\n\u001b[0m\u001b[1;32m    966\u001b[0m     \u001b[0;32melse\u001b[0m\u001b[0;34m:\u001b[0m\u001b[0;34m\u001b[0m\u001b[0m\n\u001b[1;32m    967\u001b[0m       \u001b[0mresults\u001b[0m \u001b[0;34m=\u001b[0m \u001b[0;34m[\u001b[0m\u001b[0;34m]\u001b[0m\u001b[0;34m\u001b[0m\u001b[0m\n",
      "\u001b[0;32m/Users/dreiss/miniconda3/lib/python3.6/site-packages/tensorflow/python/client/session.py\u001b[0m in \u001b[0;36m_do_run\u001b[0;34m(self, handle, target_list, fetch_list, feed_dict, options, run_metadata)\u001b[0m\n\u001b[1;32m   1013\u001b[0m     \u001b[0;32mif\u001b[0m \u001b[0mhandle\u001b[0m \u001b[0;32mis\u001b[0m \u001b[0;32mNone\u001b[0m\u001b[0;34m:\u001b[0m\u001b[0;34m\u001b[0m\u001b[0m\n\u001b[1;32m   1014\u001b[0m       return self._do_call(_run_fn, self._session, feed_dict, fetch_list,\n\u001b[0;32m-> 1015\u001b[0;31m                            target_list, options, run_metadata)\n\u001b[0m\u001b[1;32m   1016\u001b[0m     \u001b[0;32melse\u001b[0m\u001b[0;34m:\u001b[0m\u001b[0;34m\u001b[0m\u001b[0m\n\u001b[1;32m   1017\u001b[0m       return self._do_call(_prun_fn, self._session, handle, feed_dict,\n",
      "\u001b[0;32m/Users/dreiss/miniconda3/lib/python3.6/site-packages/tensorflow/python/client/session.py\u001b[0m in \u001b[0;36m_do_call\u001b[0;34m(self, fn, *args)\u001b[0m\n\u001b[1;32m   1020\u001b[0m   \u001b[0;32mdef\u001b[0m \u001b[0m_do_call\u001b[0m\u001b[0;34m(\u001b[0m\u001b[0mself\u001b[0m\u001b[0;34m,\u001b[0m \u001b[0mfn\u001b[0m\u001b[0;34m,\u001b[0m \u001b[0;34m*\u001b[0m\u001b[0margs\u001b[0m\u001b[0;34m)\u001b[0m\u001b[0;34m:\u001b[0m\u001b[0;34m\u001b[0m\u001b[0m\n\u001b[1;32m   1021\u001b[0m     \u001b[0;32mtry\u001b[0m\u001b[0;34m:\u001b[0m\u001b[0;34m\u001b[0m\u001b[0m\n\u001b[0;32m-> 1022\u001b[0;31m       \u001b[0;32mreturn\u001b[0m \u001b[0mfn\u001b[0m\u001b[0;34m(\u001b[0m\u001b[0;34m*\u001b[0m\u001b[0margs\u001b[0m\u001b[0;34m)\u001b[0m\u001b[0;34m\u001b[0m\u001b[0m\n\u001b[0m\u001b[1;32m   1023\u001b[0m     \u001b[0;32mexcept\u001b[0m \u001b[0merrors\u001b[0m\u001b[0;34m.\u001b[0m\u001b[0mOpError\u001b[0m \u001b[0;32mas\u001b[0m \u001b[0me\u001b[0m\u001b[0;34m:\u001b[0m\u001b[0;34m\u001b[0m\u001b[0m\n\u001b[1;32m   1024\u001b[0m       \u001b[0mmessage\u001b[0m \u001b[0;34m=\u001b[0m \u001b[0mcompat\u001b[0m\u001b[0;34m.\u001b[0m\u001b[0mas_text\u001b[0m\u001b[0;34m(\u001b[0m\u001b[0me\u001b[0m\u001b[0;34m.\u001b[0m\u001b[0mmessage\u001b[0m\u001b[0;34m)\u001b[0m\u001b[0;34m\u001b[0m\u001b[0m\n",
      "\u001b[0;32m/Users/dreiss/miniconda3/lib/python3.6/site-packages/tensorflow/python/client/session.py\u001b[0m in \u001b[0;36m_run_fn\u001b[0;34m(session, feed_dict, fetch_list, target_list, options, run_metadata)\u001b[0m\n\u001b[1;32m   1002\u001b[0m         return tf_session.TF_Run(session, options,\n\u001b[1;32m   1003\u001b[0m                                  \u001b[0mfeed_dict\u001b[0m\u001b[0;34m,\u001b[0m \u001b[0mfetch_list\u001b[0m\u001b[0;34m,\u001b[0m \u001b[0mtarget_list\u001b[0m\u001b[0;34m,\u001b[0m\u001b[0;34m\u001b[0m\u001b[0m\n\u001b[0;32m-> 1004\u001b[0;31m                                  status, run_metadata)\n\u001b[0m\u001b[1;32m   1005\u001b[0m \u001b[0;34m\u001b[0m\u001b[0m\n\u001b[1;32m   1006\u001b[0m     \u001b[0;32mdef\u001b[0m \u001b[0m_prun_fn\u001b[0m\u001b[0;34m(\u001b[0m\u001b[0msession\u001b[0m\u001b[0;34m,\u001b[0m \u001b[0mhandle\u001b[0m\u001b[0;34m,\u001b[0m \u001b[0mfeed_dict\u001b[0m\u001b[0;34m,\u001b[0m \u001b[0mfetch_list\u001b[0m\u001b[0;34m)\u001b[0m\u001b[0;34m:\u001b[0m\u001b[0;34m\u001b[0m\u001b[0m\n",
      "\u001b[0;31mKeyboardInterrupt\u001b[0m: "
     ]
    }
   ],
   "source": [
    "np.random.seed(seed)\n",
    "\n",
    "epochs = 10000\n",
    "model = make_model(compile=True, epochs=epochs, lrate=0.04, decay=1./100000.)\n",
    "\n",
    "train_generator = data_generator_train()\n",
    "valid_generator = data_generator_valid()\n",
    "\n",
    "from keras.callbacks import EarlyStopping, ModelCheckpoint\n",
    "early_stopping = EarlyStopping(monitor='val_loss', patience=1000)\n",
    "checkpointing = ModelCheckpoint('model.{epoch:05d}-{val_loss:.6f}.hdf5', #''./best_model.hdf5', \n",
    "                                monitor='val_loss', verbose=1, \n",
    "                                save_best_only=True, save_weights_only=False, \n",
    "                                mode='auto', period=1)\n",
    "\n",
    "rateChecking = SGDLearningRateTracker()\n",
    "\n",
    "# steps_per_epoch=5000: 5000/32=156 chunks trained per epoch,\n",
    "# then validation_steps=500: 500/32=15.6 chunks tested per epoch\n",
    "model.fit_generator(generator=train_generator, \n",
    "                    validation_data = valid_generator, validation_steps=500,\n",
    "                    #datagen.flow(X_train, Y_train, batch_size=batch_size), \n",
    "                    epochs=epochs, steps_per_epoch=5000,\n",
    "                    callbacks=[early_stopping, checkpointing, rateChecking], workers=1)"
   ]
  },
  {
   "cell_type": "code",
   "execution_count": 8,
   "metadata": {
    "collapsed": true
   },
   "outputs": [],
   "source": [
    "model = keras.models.load_model('./best_model.hdf5')  # Link your favorite model to this name"
   ]
  },
  {
   "cell_type": "code",
   "execution_count": 28,
   "metadata": {},
   "outputs": [
    {
     "name": "stdout",
     "output_type": "stream",
     "text": [
      " TEST: 242\n",
      " TEST: 264\n",
      " TEST: 262\n",
      " TEST: 281\n",
      " TEST: 258\n",
      " TEST: 273\n",
      " TEST: 269\n",
      " TEST: 280\n",
      " TEST: 251\n",
      " TEST: 273\n",
      "Test loss: 0.00623168985175\n",
      "Test accuracy: 0.992708333333\n"
     ]
    }
   ],
   "source": [
    "test_generator = data_generator_test()\n",
    "score = model.evaluate_generator(test_generator, steps=1500)\n",
    "print('Test loss:', score[0])\n",
    "print('Test accuracy:', score[1])"
   ]
  },
  {
   "cell_type": "raw",
   "metadata": {},
   "source": [
    "# Compare results between big batches for consistency.\n",
    "# Looks fine, no need to run again.\n",
    "score = model.evaluate_generator(test_generator, steps=5000)\n",
    "print('Test loss:', score[0])\n",
    "print('Test accuracy:', score[1])"
   ]
  },
  {
   "cell_type": "raw",
   "metadata": {},
   "source": [
    "# Not run:\n",
    "pred = model.predict_generator(test_generator, steps=500, verbose=1)\n",
    "pred.shape"
   ]
  },
  {
   "cell_type": "markdown",
   "metadata": {},
   "source": [
    "Load multiple test data sets for evaluation...\n",
    "\n",
    "Need many data points to get high-resolution in DET plot below..."
   ]
  },
  {
   "cell_type": "code",
   "execution_count": 31,
   "metadata": {},
   "outputs": [
    {
     "name": "stdout",
     "output_type": "stream",
     "text": [
      "235 (5120, 4, 21, 21) 68.90625\n",
      "236 (10190, 4, 21, 21) 137.13958740234375\n",
      "237 (15204, 4, 21, 21) 204.6192626953125\n",
      "238 (20252, 4, 21, 21) 272.5565185546875\n",
      "239 (25356, 4, 21, 21) 341.2474365234375\n",
      "240 (30538, 4, 21, 21) 410.98809814453125\n",
      "241 (35624, 4, 21, 21) 479.436767578125\n",
      "242 (40656, 4, 21, 21) 547.15869140625\n",
      "243 (45656, 4, 21, 21) 614.449951171875\n",
      "244 (50782, 4, 21, 21) 683.4369506835938\n",
      "245 (55796, 4, 21, 21) 750.9166259765625\n",
      "246 (60978, 4, 21, 21) 820.6572875976562\n",
      "247 (66058, 4, 21, 21) 889.0252075195312\n",
      "248 (71066, 4, 21, 21) 956.4241333007812\n",
      "249 (76106, 4, 21, 21) 1024.2537231445312\n",
      "250 (81164, 4, 21, 21) 1092.3255615234375\n",
      "251 (86258, 4, 21, 21) 1160.8818969726562\n",
      "252 (91304, 4, 21, 21) 1228.792236328125\n",
      "253 (96486, 4, 21, 21) 1298.5328979492188\n",
      "254 (101500, 4, 21, 21) 1366.0125732421875\n",
      "255 (106618, 4, 21, 21) 1434.8919067382812\n",
      "256 (111772, 4, 21, 21) 1504.2557373046875\n",
      "257 (116796, 4, 21, 21) 1571.8699951171875\n",
      "258 (121852, 4, 21, 21) 1639.9149169921875\n",
      "259 (126862, 4, 21, 21) 1707.3407592773438\n",
      "260 (131874, 4, 21, 21) 1774.7935180664062\n",
      "261 (136922, 4, 21, 21) 1842.7307739257812\n",
      "262 (141932, 4, 21, 21) 1910.1566162109375\n",
      "263 (146958, 4, 21, 21) 1977.7977905273438\n",
      "264 (152036, 4, 21, 21) 2046.1387939453125\n",
      "265 (157098, 4, 21, 21) 2114.2644653320312\n",
      "266 (162164, 4, 21, 21) 2182.4439697265625\n",
      "267 (167246, 4, 21, 21) 2250.8388061523438\n",
      "268 (172388, 4, 21, 21) 2320.0411376953125\n",
      "269 (177420, 4, 21, 21) 2387.7630615234375\n",
      "270 (182468, 4, 21, 21) 2455.7003173828125\n",
      "271 (187470, 4, 21, 21) 2523.0184936523438\n",
      "272 (192480, 4, 21, 21) 2590.4443359375\n",
      "273 (197496, 4, 21, 21) 2657.950927734375\n",
      "274 (202580, 4, 21, 21) 2726.3726806640625\n"
     ]
    }
   ],
   "source": [
    "# Make sure we don't take too much RAM:\n",
    "\n",
    "X_test = Y_test = None\n",
    "for i in range(235, 255):\n",
    "    (X, Y), _, _ = load_pkl_data(i, split_frac=(1.0, 1.0), verbose=False)\n",
    "    if X_test is None:\n",
    "        X_test, Y_test = X, Y\n",
    "    else:\n",
    "        X_test = np.concatenate((X_test, X), 0)\n",
    "        Y_test = np.concatenate((Y_test, Y), 0)\n",
    "    print(i, X_test.shape, X_test.nbytes/1024/1024)  # in MB"
   ]
  },
  {
   "cell_type": "code",
   "execution_count": 32,
   "metadata": {},
   "outputs": [
    {
     "name": "stdout",
     "output_type": "stream",
     "text": [
      "202580/202580 [==============================] - 767s   \n",
      "             precision    recall  f1-score   support\n",
      "\n",
      "          0   0.995172  0.991046  0.993104    101290\n",
      "          1   0.991082  0.995192  0.993133    101290\n",
      "\n",
      "avg / total   0.993127  0.993119  0.993119    202580\n",
      "\n"
     ]
    }
   ],
   "source": [
    "from sklearn import metrics\n",
    "\n",
    "pred = model.predict_proba(X_test)\n",
    "pred_classes = np.argmax(pred, 1)\n",
    "\n",
    "print(metrics.classification_report(Y_test[:,1].astype(int), pred_classes, digits=6))"
   ]
  },
  {
   "cell_type": "code",
   "execution_count": 33,
   "metadata": {},
   "outputs": [
    {
     "data": {
      "text/plain": [
       "<matplotlib.text.Text at 0x127eabe10>"
      ]
     },
     "execution_count": 33,
     "metadata": {},
     "output_type": "execute_result"
    },
    {
     "data": {
      "image/png": "[encoded data removed]",
      "text/plain": [
       "<matplotlib.figure.Figure at 0x119b0c748>"
      ]
     },
     "metadata": {},
     "output_type": "display_data"
    }
   ],
   "source": [
    "fpr, tpr, thresholds = metrics.roc_curve(Y_test[:,1], pred[:,1])\n",
    "plt.loglog(fpr, tpr, label='ROC Curve')\n",
    "plt.xlabel('FPR'); plt.ylabel('TPR (recall)')"
   ]
  },
  {
   "cell_type": "code",
   "execution_count": 34,
   "metadata": {},
   "outputs": [
    {
     "name": "stdout",
     "output_type": "stream",
     "text": [
      "Incorrectly classified: 1394 of 202580\n"
     ]
    },
    {
     "data": {
      "text/plain": [
       "<matplotlib.figure.Figure at 0x127f25208>"
      ]
     },
     "metadata": {},
     "output_type": "display_data"
    },
    {
     "data": {
      "image/png": "[encoded data removed]",
      "text/plain": [
       "<matplotlib.figure.Figure at 0x121082cc0>"
      ]
     },
     "metadata": {},
     "output_type": "display_data"
    }
   ],
   "source": [
    "plot_misclassified(model, pred_classes, X_test, Y_test, nmax=10, only_plot_misclassified=True)"
   ]
  },
  {
   "cell_type": "markdown",
   "metadata": {},
   "source": [
    "Make a \"DET\" curve (detection error trade-off) plot as in the paper...\n",
    "\n",
    "Code not in sklearn yet, but from [this PR](https://github.com/scikit-learn/scikit-learn/pull/4980)"
   ]
  },
  {
   "cell_type": "code",
   "execution_count": 21,
   "metadata": {
    "collapsed": true
   },
   "outputs": [],
   "source": [
    "import sklearn.utils\n",
    "\n",
    "def _binary_clf_curve(y_true, y_score, pos_label=None, sample_weight=None):\n",
    "    \"\"\"Calculate true and false positives per binary classification threshold.\n",
    "    Parameters\n",
    "    ----------\n",
    "    y_true : array, shape = [n_samples]\n",
    "        True targets of binary classification\n",
    "    y_score : array, shape = [n_samples]\n",
    "        Estimated probabilities or decision function\n",
    "    pos_label : int, optional (default=None)\n",
    "        The label of the positive class\n",
    "    sample_weight : array-like of shape = [n_samples], optional\n",
    "        Sample weights.\n",
    "    Returns\n",
    "    -------\n",
    "    fps : array, shape = [n_thresholds]\n",
    "        A count of false positives, at index i being the number of negative\n",
    "        samples assigned a score >= thresholds[i]. The total number of\n",
    "        negative samples is equal to fps[-1] (thus true negatives are given by\n",
    "        fps[-1] - fps).\n",
    "    tps : array, shape = [n_thresholds := len(np.unique(y_score))]\n",
    "        An increasing count of true positives, at index i being the number\n",
    "        of positive samples assigned a score >= thresholds[i]. The total\n",
    "        number of positive samples is equal to tps[-1] (thus false negatives\n",
    "        are given by tps[-1] - tps).\n",
    "    thresholds : array, shape = [n_thresholds]\n",
    "        Decreasing score values.\n",
    "    \"\"\"\n",
    "    sklearn.utils.check_consistent_length(y_true, y_score)\n",
    "    y_true = sklearn.utils.column_or_1d(y_true)\n",
    "    y_score = sklearn.utils.column_or_1d(y_score)\n",
    "    if sample_weight is not None:\n",
    "        sample_weight = sklearn.utils.column_or_1d(sample_weight)\n",
    "\n",
    "    # ensure binary classification if pos_label is not specified\n",
    "    classes = np.unique(y_true)\n",
    "    if (pos_label is None and\n",
    "        not (np.all(classes == [0, 1]) or\n",
    "             np.all(classes == [-1, 1]) or\n",
    "             np.all(classes == [0]) or\n",
    "             np.all(classes == [-1]) or\n",
    "             np.all(classes == [1]))):\n",
    "        raise ValueError(\"Data is not binary and pos_label is not specified\")\n",
    "    elif pos_label is None:\n",
    "        pos_label = 1.\n",
    "\n",
    "    # make y_true a boolean vector\n",
    "    y_true = (y_true == pos_label)\n",
    "\n",
    "    # sort scores and corresponding truth values\n",
    "    desc_score_indices = np.argsort(y_score, kind=\"mergesort\")[::-1]\n",
    "    y_score = y_score[desc_score_indices]\n",
    "    y_true = y_true[desc_score_indices]\n",
    "    if sample_weight is not None:\n",
    "        weight = sample_weight[desc_score_indices]\n",
    "    else:\n",
    "        weight = 1.\n",
    "\n",
    "    # y_score typically has many tied values. Here we extract\n",
    "    # the indices associated with the distinct values. We also\n",
    "    # concatenate a value for the end of the curve.\n",
    "    # We need to use isclose to avoid spurious repeated thresholds\n",
    "    # stemming from floating point roundoff errors.\n",
    "    distinct_value_indices = np.where(np.logical_not(np.isclose(\n",
    "        np.diff(y_score), 0)))[0]\n",
    "    threshold_idxs = np.r_[distinct_value_indices, y_true.size - 1]\n",
    "\n",
    "    # accumulate the true positives with decreasing threshold\n",
    "    tps = (y_true * weight).cumsum()[threshold_idxs]\n",
    "    if sample_weight is not None:\n",
    "        fps = weight.cumsum()[threshold_idxs] - tps\n",
    "    else:\n",
    "        fps = 1 + threshold_idxs - tps\n",
    "    return fps, tps, y_score[threshold_idxs]\n",
    "\n",
    "def detection_error_tradeoff(y_true, probas_pred, pos_label=None,\n",
    "                             sample_weight=None):\n",
    "    \"\"\"Compute error rates for different probability thresholds\n",
    "    Note: this implementation is restricted to the binary classification task.\n",
    "    Parameters\n",
    "    ----------\n",
    "    y_true : array, shape = [n_samples]\n",
    "        True targets of binary classification in range {-1, 1} or {0, 1}.\n",
    "    probas_pred : array, shape = [n_samples]\n",
    "        Estimated probabilities or decision function.\n",
    "    pos_label : int, optional (default=None)\n",
    "        The label of the positive class\n",
    "    sample_weight : array-like of shape = [n_samples], optional\n",
    "        Sample weights.\n",
    "    Returns\n",
    "    -------\n",
    "    fps : array, shape = [n_thresholds]\n",
    "        A count of false positives, at index i being the number of negative\n",
    "        samples assigned a score >= thresholds[i]. The total number of\n",
    "        negative samples is equal to fps[-1] (thus true negatives are given by\n",
    "        fps[-1] - fps).\n",
    "    fns : array, shape = [n_thresholds]\n",
    "        A count of false negatives, at index i being the number of positive\n",
    "        samples assigned a score < thresholds[i]. The total number of\n",
    "        positive samples is equal to tps[-1] (thus false negatives are given by\n",
    "        tps[-1] - tps).\n",
    "    thresholds : array, shape = [n_thresholds]\n",
    "        Decreasing score values.\n",
    "    References\n",
    "    ----------\n",
    "    .. [1] `Wikipedia entry for Detection error tradeoff\n",
    "            <https://en.wikipedia.org/wiki/Detection_error_tradeoff>`_\n",
    "    .. [2] `The DET Curve in Assessment of Detection Task Performance\n",
    "            <http://www.itl.nist.gov/iad/mig/publications/storage_paper/det.pdf>`_\n",
    "    .. [3] `2008 NIST Speaker Recognition Evaluation Results\n",
    "            <http://www.itl.nist.gov/iad/mig/tests/sre/2008/official_results/>`_\n",
    "    .. [4] `DET-Curve Plotting software for use with MATLAB\n",
    "            <http://www.itl.nist.gov/iad/mig/tools/DETware_v2.1.targz.htm>`_\n",
    "    Examples\n",
    "    --------\n",
    "    >>> import numpy as np\n",
    "    >>> from sklearn.metrics import detection_error_tradeoff\n",
    "    >>> y_true = np.array([0, 0, 1, 1])\n",
    "    >>> y_scores = np.array([0.1, 0.4, 0.35, 0.8])\n",
    "    >>> fps, fns, thresholds = detection_error_tradeoff(y_true, y_scores)\n",
    "    >>> fps\n",
    "    array([ 0.5,  0.5,  0. ])\n",
    "    >>> fns\n",
    "    array([ 0. ,  0.5,  0.5])\n",
    "    >>> thresholds\n",
    "    array([ 0.35,  0.4 ,  0.8 ])\n",
    "    \"\"\"\n",
    "    fps, tps, thresholds = _binary_clf_curve(y_true, probas_pred,\n",
    "                                             pos_label=pos_label,\n",
    "                                             sample_weight=sample_weight)\n",
    "    fns = tps[-1] - tps\n",
    "    tp_count = tps[-1]\n",
    "    tn_count = (fps[-1] - fps)[0]\n",
    "\n",
    "    # start with false positives is zero and stop with false negatives zero\n",
    "    # and reverse the outputs so list of false positives is decreasing\n",
    "    last_ind = tps.searchsorted(tps[-1]) + 1\n",
    "    first_ind = fps[::-1].searchsorted(fps[0])\n",
    "    sl = range(first_ind, last_ind)[::-1]\n",
    "    return fps[sl] / tp_count, fns[sl] / tn_count, thresholds[sl]"
   ]
  },
  {
   "cell_type": "code",
   "execution_count": 35,
   "metadata": {},
   "outputs": [
    {
     "data": {
      "text/plain": [
       "<matplotlib.text.Text at 0x1190db438>"
      ]
     },
     "execution_count": 35,
     "metadata": {},
     "output_type": "execute_result"
    },
    {
     "data": {
      "image/png": "[encoded data removed]",
      "text/plain": [
       "<matplotlib.figure.Figure at 0x127f22630>"
      ]
     },
     "metadata": {},
     "output_type": "display_data"
    }
   ],
   "source": [
    "fpr, fnr, thresholds = detection_error_tradeoff(Y_test[:,1], pred[:,1])\n",
    "plt.loglog(fpr, fnr, label='DET Curve')\n",
    "#plt.xlim(1e-5, 0.5); plt.ylim(1e-5, 0.5)\n",
    "plt.xlabel('FPR'); plt.ylabel('FNR')"
   ]
  },
  {
   "cell_type": "code",
   "execution_count": null,
   "metadata": {
    "collapsed": true
   },
   "outputs": [],
   "source": []
  },
  {
   "cell_type": "code",
   "execution_count": null,
   "metadata": {
    "collapsed": true
   },
   "outputs": [],
   "source": []
  },
  {
   "cell_type": "code",
   "execution_count": null,
   "metadata": {
    "collapsed": true
   },
   "outputs": [],
   "source": []
  },
  {
   "cell_type": "markdown",
   "metadata": {},
   "source": [
    "Try re-starting a loaded model...  seems to work. But how to start it at its old iteration?\n",
    "\n",
    "Looks like we use the `inital_epoch` parameter for `fit_generator`."
   ]
  },
  {
   "cell_type": "raw",
   "metadata": {},
   "source": [
    "model.fit_generator(generator=train_generator, \n",
    "                    validation_data = valid_generator, validation_steps=500,\n",
    "                    epochs=epochs, steps_per_epoch=5000,\n",
    "                    callbacks=[early_stopping, checkpointing, rateChecking], workers=1)"
   ]
  },
  {
   "cell_type": "code",
   "execution_count": null,
   "metadata": {
    "collapsed": true
   },
   "outputs": [],
   "source": []
  }
 ],
 "metadata": {
  "kernelspec": {
   "display_name": "Python 3",
   "language": "python",
   "name": "python3"
  },
  "language_info": {
   "codemirror_mode": {
    "name": "ipython",
    "version": 3
   },
   "file_extension": ".py",
   "mimetype": "text/x-python",
   "name": "python",
   "nbconvert_exporter": "python",
   "pygments_lexer": "ipython3",
   "version": "3.6.1"
  }
 },
 "nbformat": 4,
 "nbformat_minor": 1
}
