{
 "cells": [
  {
   "cell_type": "markdown",
   "metadata": {},
   "source": [
    "# Convolutional Neural Network applied to Transient Detection"
   ]
  },
  {
   "cell_type": "code",
   "execution_count": 1,
   "metadata": {
    "collapsed": true
   },
   "outputs": [],
   "source": [
    "import numpy as np\n",
    "import gzip\n",
    "import matplotlib.pyplot as plt\n",
    "%matplotlib inline"
   ]
  },
  {
   "cell_type": "markdown",
   "metadata": {},
   "source": [
    "Put data loader into a function, break up potentially into train/valid/test subsets..."
   ]
  },
  {
   "cell_type": "code",
   "execution_count": 2,
   "metadata": {
    "collapsed": true
   },
   "outputs": [],
   "source": [
    "def load_pkl_data(chunk_num, split_frac=(0.8, 0.9), verbose=False):\n",
    "    fname = 'all_chunks/chunk_%d_5000.pkl.gz' % chunk_num\n",
    "    pkl_data = np.load(gzip.GzipFile(fname, 'rb'), encoding='bytes')\n",
    "    if False:\n",
    "        print(pkl_data.keys())\n",
    "        print(pkl_data[b'diff_images'].shape)\n",
    "    \n",
    "    N_data = pkl_data[b'diff_images'].shape[0]\n",
    "    if False:\n",
    "        print(N_data)\n",
    "    X = np.array([pkl_data[b'temp_images'].reshape((N_data, 21, 21)), \n",
    "                 pkl_data[b'sci_images'].reshape((N_data, 21, 21)),\n",
    "                 pkl_data[b'diff_images'].reshape((N_data, 21, 21)),\n",
    "                 pkl_data[b'SNR_images'].reshape((N_data, 21, 21))])\n",
    "    X = np.swapaxes(X, 0, 1)\n",
    "\n",
    "    Y = np.array([np.logical_not(pkl_data[b'labels']), pkl_data[b'labels']]).transpose()\n",
    "    if False:\n",
    "        print(X.shape, Y.shape)\n",
    "        \n",
    "    N_train = int(N_data * split_frac[0])\n",
    "    N_valid = 0\n",
    "    if split_frac[0] < 1.0:\n",
    "        N_valid = int(N_data * split_frac[1])\n",
    "    N_test = 0\n",
    "    if split_frac[1] < 1.0:\n",
    "        N_test  = int(N_data * 1.0)\n",
    "\n",
    "    X_train, Y_train = X[:N_train], Y[:N_train]\n",
    "    X_valid = Y_valid = None\n",
    "    if N_valid > 0:\n",
    "        X_valid, Y_valid = X[N_train:N_valid], Y[N_train:N_valid]\n",
    "    X_test = Y_test = None\n",
    "    if N_test > 0:\n",
    "        X_test, Y_test = X[N_valid:N_test], Y[N_valid:N_test]\n",
    "\n",
    "    if verbose:\n",
    "        print(np.mean(Y[:,0]), np.mean(Y[:,1]))\n",
    "        print(\"Train: \", X_train.shape, Y_train.shape)\n",
    "        if N_valid > 0:\n",
    "            print(\"Valid: \", X_valid.shape, Y_valid.shape)\n",
    "        if N_test > 0:\n",
    "            print(\"Test: \", X_test.shape, Y_test.shape)\n",
    "        \n",
    "    return (X_train, Y_train), (X_valid, Y_valid), (X_test, Y_test)"
   ]
  },
  {
   "cell_type": "code",
   "execution_count": 3,
   "metadata": {},
   "outputs": [
    {
     "name": "stdout",
     "output_type": "stream",
     "text": [
      "0.5 0.5\n",
      "Train:  (4527, 4, 21, 21) (4527, 2)\n",
      "Valid:  (503, 4, 21, 21) (503, 2)\n"
     ]
    }
   ],
   "source": [
    "(X_train, Y_train), (X_test, Y_test), _ = load_pkl_data(188, (0.9, 1.0), verbose=True)"
   ]
  },
  {
   "cell_type": "markdown",
   "metadata": {},
   "source": [
    "We create a Keras sequential model and compile it."
   ]
  },
  {
   "cell_type": "code",
   "execution_count": 4,
   "metadata": {},
   "outputs": [
    {
     "name": "stderr",
     "output_type": "stream",
     "text": [
      "Using TensorFlow backend.\n"
     ]
    }
   ],
   "source": [
    "from IPython.display import SVG\n",
    "from keras.models import Sequential\n",
    "from keras.layers import Dense, Dropout, Activation, Flatten\n",
    "from keras.layers import Convolution2D, MaxPooling2D, ZeroPadding2D\n",
    "from keras.utils.vis_utils import plot_model, model_to_dot\n",
    "\n",
    "# set dimensions ordering (depth as index 1)\n",
    "import keras\n",
    "keras.backend.set_image_dim_ordering('th')\n",
    "\n",
    "def make_model(compile=True, epochs=100, lrate=0.01, decay=None):\n",
    "    model = Sequential()\n",
    "    model.add(ZeroPadding2D((3, 3), input_shape = (4, 21, 21)))\n",
    "    model.add(Convolution2D(32, (4, 4), activation='relu'))\n",
    "    model.add(ZeroPadding2D((1, 1)))\n",
    "    model.add(Convolution2D(32, (3, 3), activation='relu'))\n",
    "    model.add(MaxPooling2D(pool_size=(2, 2)))\n",
    "\n",
    "    model.add(ZeroPadding2D((1, 1)))\n",
    "    model.add(Convolution2D(64, (3, 3), activation='relu'))\n",
    "    model.add(ZeroPadding2D((1, 1)))\n",
    "    model.add(Convolution2D(64, (3, 3), activation='relu'))\n",
    "    model.add(ZeroPadding2D((1, 1)))\n",
    "    model.add(Convolution2D(64, (3, 3), activation='relu'))\n",
    "    model.add(MaxPooling2D(pool_size=(2, 2)))\n",
    "\n",
    "    model.add(Flatten())\n",
    "    model.add(Dense(64, activation='relu'))\n",
    "    if epochs <= 2:\n",
    "        model.add(Dropout(0.1))\n",
    "    model.add(Dense(64, activation='relu'))\n",
    "    if epochs <= 2:\n",
    "        model.add(Dropout(0.1))\n",
    "    model.add(Dense(2, activation='softmax'))\n",
    "    \n",
    "    if compile:\n",
    "        # model.compile(loss='mean_squared_error',\n",
    "        #       optimizer='sgd', metrics=['accuracy'])\n",
    "\n",
    "        # initiate RMSprop optimizer (OLD)\n",
    "        #opt = keras.optimizers.rmsprop(lr=0.0001, decay=1e-6)\n",
    "\n",
    "        # Compile model\n",
    "        #epochs = 25\n",
    "        #lrate = 0.01\n",
    "        if decay is None:\n",
    "            if epochs > 2:\n",
    "                decay = lrate/epochs\n",
    "            else:\n",
    "                decay = lrate/100.\n",
    "        opt = keras.optimizers.SGD(lr=lrate, momentum=0.9, decay=decay, nesterov=False)\n",
    "\n",
    "        # Let's train the model using RMSprop\n",
    "        model.compile(loss='mean_squared_error', #categorical_crossentropy',\n",
    "                      optimizer=opt,\n",
    "                      metrics=['accuracy'])\n",
    "\n",
    "    return model"
   ]
  },
  {
   "cell_type": "code",
   "execution_count": 5,
   "metadata": {
    "collapsed": true
   },
   "outputs": [],
   "source": [
    "epochs = 25\n",
    "model = make_model(epochs=25)"
   ]
  },
  {
   "cell_type": "code",
   "execution_count": 6,
   "metadata": {},
   "outputs": [
    {
     "name": "stdout",
     "output_type": "stream",
     "text": [
      "_________________________________________________________________\n",
      "Layer (type)                 Output Shape              Param #   \n",
      "=================================================================\n",
      "zero_padding2d_1 (ZeroPaddin (None, 4, 27, 27)         0         \n",
      "_________________________________________________________________\n",
      "conv2d_1 (Conv2D)            (None, 32, 24, 24)        2080      \n",
      "_________________________________________________________________\n",
      "zero_padding2d_2 (ZeroPaddin (None, 32, 26, 26)        0         \n",
      "_________________________________________________________________\n",
      "conv2d_2 (Conv2D)            (None, 32, 24, 24)        9248      \n",
      "_________________________________________________________________\n",
      "max_pooling2d_1 (MaxPooling2 (None, 32, 12, 12)        0         \n",
      "_________________________________________________________________\n",
      "zero_padding2d_3 (ZeroPaddin (None, 32, 14, 14)        0         \n",
      "_________________________________________________________________\n",
      "conv2d_3 (Conv2D)            (None, 64, 12, 12)        18496     \n",
      "_________________________________________________________________\n",
      "zero_padding2d_4 (ZeroPaddin (None, 64, 14, 14)        0         \n",
      "_________________________________________________________________\n",
      "conv2d_4 (Conv2D)            (None, 64, 12, 12)        36928     \n",
      "_________________________________________________________________\n",
      "zero_padding2d_5 (ZeroPaddin (None, 64, 14, 14)        0         \n",
      "_________________________________________________________________\n",
      "conv2d_5 (Conv2D)            (None, 64, 12, 12)        36928     \n",
      "_________________________________________________________________\n",
      "max_pooling2d_2 (MaxPooling2 (None, 64, 6, 6)          0         \n",
      "_________________________________________________________________\n",
      "flatten_1 (Flatten)          (None, 2304)              0         \n",
      "_________________________________________________________________\n",
      "dense_1 (Dense)              (None, 64)                147520    \n",
      "_________________________________________________________________\n",
      "dense_2 (Dense)              (None, 64)                4160      \n",
      "_________________________________________________________________\n",
      "dense_3 (Dense)              (None, 2)                 130       \n",
      "=================================================================\n",
      "Total params: 255,490.0\n",
      "Trainable params: 255,490.0\n",
      "Non-trainable params: 0.0\n",
      "_________________________________________________________________\n",
      "None\n"
     ]
    }
   ],
   "source": [
    "print(model.summary())"
   ]
  },
  {
   "cell_type": "markdown",
   "metadata": {},
   "source": [
    "Now, we fit our model to the training data-set"
   ]
  },
  {
   "cell_type": "code",
   "execution_count": null,
   "metadata": {
    "collapsed": true
   },
   "outputs": [],
   "source": []
  },
  {
   "cell_type": "code",
   "execution_count": null,
   "metadata": {
    "collapsed": true
   },
   "outputs": [],
   "source": []
  },
  {
   "cell_type": "code",
   "execution_count": null,
   "metadata": {
    "collapsed": true
   },
   "outputs": [],
   "source": []
  },
  {
   "cell_type": "code",
   "execution_count": null,
   "metadata": {
    "collapsed": true
   },
   "outputs": [],
   "source": []
  },
  {
   "cell_type": "code",
   "execution_count": null,
   "metadata": {
    "collapsed": true
   },
   "outputs": [],
   "source": []
  },
  {
   "cell_type": "code",
   "execution_count": 107,
   "metadata": {
    "collapsed": true
   },
   "outputs": [],
   "source": [
    "def run_model(model, train, valid, epochs=25, batch_size=32, data_augmentation=True, \n",
    "              patience=5, **kwargs):\n",
    "    X_train, Y_train = train\n",
    "    X_valid, Y_valid = valid\n",
    "    \n",
    "    from keras.callbacks import EarlyStopping\n",
    "    early_stopping = EarlyStopping(monitor='val_loss', patience=patience)\n",
    "\n",
    "    if not data_augmentation:\n",
    "        if epochs > 2:\n",
    "            print('Not using data augmentation.')\n",
    "        histry = model.fit(X_train, Y_train, batch_size=batch_size, \n",
    "                  epochs=epochs, validation_data=(X_valid, Y_valid),\n",
    "                  shuffle=True, callbacks=[early_stopping], **kwargs)\n",
    "    else:\n",
    "        if epochs > 2:\n",
    "            print('Using real-time data augmentation.')\n",
    "        from keras.preprocessing.image import ImageDataGenerator\n",
    "        # This will do preprocessing and realtime data augmentation:\n",
    "        datagen = ImageDataGenerator(\n",
    "            featurewise_center=False,  # set input mean to 0 over the dataset\n",
    "            samplewise_center=False,  # set each sample mean to 0\n",
    "            featurewise_std_normalization=False,  # divide inputs by std of the dataset\n",
    "            samplewise_std_normalization=False,  # divide each input by its std\n",
    "            zca_whitening=False,  # apply ZCA whitening\n",
    "            rotation_range=0,  # randomly rotate images in the range (degrees, 0 to 180)\n",
    "            width_shift_range=0.,  # randomly shift images horizontally (fraction of total width)\n",
    "            height_shift_range=0.,  # randomly shift images vertically (fraction of total height)\n",
    "            horizontal_flip=True,  # randomly flip images\n",
    "            vertical_flip=True)  # randomly flip images\n",
    "\n",
    "        # Compute quantities required for feature-wise normalization\n",
    "        # (std, mean, and principal components if ZCA whitening is applied).\n",
    "        # datagen.fit(X_train)  # so not needed.\n",
    "\n",
    "        # Fit the model on the batches generated by datagen.flow().\n",
    "        histry = model.fit_generator(datagen.flow(X_train, Y_train, batch_size=batch_size), \n",
    "                            epochs=epochs, validation_data=(X_valid, Y_valid),\n",
    "                            steps_per_epoch=X_train.shape[0] // batch_size,\n",
    "                            callbacks=[early_stopping], **kwargs) \n",
    "        \n",
    "    return model, histry"
   ]
  },
  {
   "cell_type": "raw",
   "metadata": {},
   "source": [
    "seed = 666\n",
    "np.random.seed(seed)\n",
    "model = make_model()\n",
    "model, histry = run_model(model, (X_train, Y_train), (X_valid, Y_valid), data_augmentation=False)"
   ]
  },
  {
   "cell_type": "raw",
   "metadata": {},
   "source": [
    "score = model.evaluate(X_test, Y_test)\n",
    "print('Test loss:', score[0])\n",
    "print('Test accuracy:', score[1])"
   ]
  },
  {
   "cell_type": "raw",
   "metadata": {},
   "source": [
    "np.random.seed(seed)\n",
    "model = make_model()\n",
    "model, histry = run_model(model, (X_train, Y_train), (X_valid, Y_valid), data_augmentation=True,\n",
    "                         patience=10)"
   ]
  },
  {
   "cell_type": "raw",
   "metadata": {},
   "source": [
    "score = model.evaluate(X_test, Y_test)\n",
    "print('Test loss:', score[0])\n",
    "print('Test accuracy:', score[1])"
   ]
  },
  {
   "cell_type": "raw",
   "metadata": {},
   "source": [
    "from sklearn import metrics\n",
    "pred = model.predict_classes(X_test)\n",
    "print(metrics.classification_report(Y_test[:,1].astype(int), pred))"
   ]
  },
  {
   "cell_type": "raw",
   "metadata": {},
   "source": [
    "fpr, tpr, thresholds = metrics.roc_curve(Y_test[:,1].astype(int), pred)\n",
    "plt.plot(fpr, tpr, label='ROC Curve')\n",
    "plt.xlabel('FPR'); plt.ylabel('TPR (recall)')"
   ]
  },
  {
   "cell_type": "code",
   "execution_count": 55,
   "metadata": {},
   "outputs": [],
   "source": [
    "def plot_misclassified(model, ypred, Y_test, nmax=10, only_plot_misclassified=True):\n",
    "    ytest = Y_test[:, 1].astype(int)\n",
    "\n",
    "    N_plot = nmax\n",
    "    only_plot_wrong = only_plot_misclassified\n",
    "    if not only_plot_wrong:\n",
    "        plot_inds = range(N_plot)\n",
    "    else:\n",
    "        plot_inds = np.where(ypred != ytest)[0]\n",
    "        if len(plot_inds) > N_plot:\n",
    "            plot_inds = plot_inds[:N_plot]\n",
    "    N_plot = len(plot_inds)\n",
    "\n",
    "    plt.clf()\n",
    "    fig, axes = plt.subplots(N_plot, 4, figsize=(4, N_plot*1.2),\n",
    "                            subplot_kw={'xticks': [], 'yticks': []})\n",
    "    i = 0\n",
    "    for ind in plot_inds:\n",
    "        axes.flat[4*i].imshow(X_test[ind][0], interpolation = \"none\")\n",
    "        axes.flat[4*i + 1].imshow(X_test[ind][1], interpolation = \"none\")\n",
    "        axes.flat[4*i + 2].imshow(X_test[ind][2], interpolation = \"none\")\n",
    "        axes.flat[4*i + 3].imshow(X_test[ind][3], interpolation = \"none\")\n",
    "\n",
    "        axes.flat[4*i + 3].set_title (\"predicted pbb = \" + str(np.round(ypred[ind], 2)) + \n",
    "                                      \", label = \" + str(ytest[ind]))\n",
    "        i += 1\n",
    "    plt.show()"
   ]
  },
  {
   "cell_type": "code",
   "execution_count": null,
   "metadata": {
    "collapsed": true
   },
   "outputs": [],
   "source": []
  },
  {
   "cell_type": "code",
   "execution_count": null,
   "metadata": {
    "collapsed": true
   },
   "outputs": [],
   "source": []
  },
  {
   "cell_type": "code",
   "execution_count": null,
   "metadata": {
    "collapsed": true
   },
   "outputs": [],
   "source": []
  },
  {
   "cell_type": "code",
   "execution_count": null,
   "metadata": {
    "collapsed": true
   },
   "outputs": [],
   "source": []
  },
  {
   "cell_type": "markdown",
   "metadata": {},
   "source": [
    "Now try fitting a large number of data in batches:"
   ]
  },
  {
   "cell_type": "code",
   "execution_count": 7,
   "metadata": {
    "collapsed": true
   },
   "outputs": [],
   "source": [
    "n_data = 100  # number of datasets to run\n",
    "seed = 666\n",
    "batch_size = 32\n",
    "epochs = 1  # 10   # Probably want to stop around 25 but now we have auto-stopping"
   ]
  },
  {
   "cell_type": "code",
   "execution_count": 94,
   "metadata": {},
   "outputs": [
    {
     "name": "stdout",
     "output_type": "stream",
     "text": [
      "Dataset 0: Test loss = 0.020522; Test accuracy = 0.977011\n",
      "Dataset 1: Test loss = 0.021069; Test accuracy = 0.978261\n",
      "Dataset 2: Test loss = 0.047351; Test accuracy = 0.952096\n",
      "Dataset 3: Test loss = 0.016788; Test accuracy = 0.986193\n",
      "Dataset 4: Test loss = 0.014735; Test accuracy = 0.984095\n",
      "Dataset 5: Test loss = 0.025702; Test accuracy = 0.968992\n",
      "Dataset 6: Test loss = 0.014422; Test accuracy = 0.982143\n",
      "Dataset 7: Test loss = 0.035030; Test accuracy = 0.956436\n",
      "Dataset 8: Test loss = 0.033313; Test accuracy = 0.962151\n",
      "Dataset 9: Test loss = 0.017067; Test accuracy = 0.984032\n",
      "Dataset 10: Test loss = 0.006057; Test accuracy = 0.992395\n",
      "Dataset 11: Test loss = 0.015210; Test accuracy = 0.984586\n",
      "Dataset 12: Test loss = 0.027590; Test accuracy = 0.968064\n",
      "Dataset 13: Test loss = 0.026422; Test accuracy = 0.970120\n",
      "Dataset 14: Test loss = 0.010145; Test accuracy = 0.990291\n",
      "Dataset 15: Test loss = 0.015365; Test accuracy = 0.984000\n",
      "Dataset 16: Test loss = 0.009928; Test accuracy = 0.988350\n",
      "Dataset 17: Test loss = 0.007312; Test accuracy = 0.992322\n",
      "Dataset 18: Test loss = 0.018026; Test accuracy = 0.980315\n",
      "Dataset 19: Test loss = 0.021313; Test accuracy = 0.974308\n",
      "Dataset 20: Test loss = 0.011494; Test accuracy = 0.986056\n",
      "Dataset 21: Test loss = 0.017901; Test accuracy = 0.980276\n",
      "Dataset 22: Test loss = 0.042005; Test accuracy = 0.954274\n",
      "Dataset 23: Test loss = 0.016604; Test accuracy = 0.982490\n",
      "Dataset 24: Test loss = 0.008004; Test accuracy = 0.992095\n",
      "Dataset 25: Test loss = 0.027422; Test accuracy = 0.964427\n",
      "Dataset 26: Test loss = 0.012517; Test accuracy = 0.986111\n",
      "Dataset 27: Test loss = 0.018306; Test accuracy = 0.980080\n",
      "Dataset 28: Test loss = 0.024154; Test accuracy = 0.972441\n",
      "Dataset 29: Test loss = 0.011394; Test accuracy = 0.986139\n",
      "Dataset 30: Test loss = 0.007466; Test accuracy = 0.992188\n",
      "Dataset 31: Test loss = 0.003893; Test accuracy = 0.996071\n",
      "Dataset 32: Test loss = 0.003397; Test accuracy = 0.996008\n",
      "Dataset 33: Test loss = 0.030312; Test accuracy = 0.962000\n",
      "Dataset 34: Test loss = 0.014112; Test accuracy = 0.986193\n",
      "Dataset 35: Test loss = 0.007312; Test accuracy = 0.992079\n",
      "Dataset 36: Test loss = 0.009854; Test accuracy = 0.990291\n",
      "Dataset 37: Test loss = 0.008907; Test accuracy = 0.990548\n",
      "Dataset 38: Test loss = 0.038709; Test accuracy = 0.958743\n",
      "Dataset 39: Test loss = 0.005501; Test accuracy = 0.994175\n",
      "Dataset 40: Test loss = 0.023855; Test accuracy = 0.974155\n",
      "Dataset 41: Test loss = 0.010680; Test accuracy = 0.990157\n",
      "Dataset 42: Test loss = 0.007423; Test accuracy = 0.992157\n",
      "Dataset 43: Test loss = 0.018265; Test accuracy = 0.980315\n",
      "Dataset 44: Test loss = 0.029711; Test accuracy = 0.968254\n",
      "Dataset 45: Test loss = 0.027818; Test accuracy = 0.970060\n",
      "Dataset 46: Test loss = 0.010913; Test accuracy = 0.990020\n",
      "Dataset 47: Test loss = 0.007599; Test accuracy = 0.992079\n",
      "Dataset 48: Test loss = 0.012030; Test accuracy = 0.986083\n",
      "Dataset 49: Test loss = 0.012365; Test accuracy = 0.984221\n",
      "Dataset 50: Test loss = 0.008243; Test accuracy = 0.992172\n",
      "Dataset 51: Test loss = 0.005491; Test accuracy = 0.992110\n",
      "Dataset 52: Test loss = 0.020311; Test accuracy = 0.974560\n",
      "Dataset 53: Test loss = 0.013201; Test accuracy = 0.986083\n",
      "Dataset 54: Test loss = 0.009248; Test accuracy = 0.990099\n",
      "Dataset 55: Test loss = 0.017546; Test accuracy = 0.980080\n",
      "Dataset 56: Test loss = 0.014373; Test accuracy = 0.984064\n",
      "Dataset 57: Test loss = 0.007096; Test accuracy = 0.992218\n",
      "Dataset 58: Test loss = 0.002786; Test accuracy = 0.998039\n",
      "Dataset 59: Test loss = 0.045632; Test accuracy = 0.950100\n",
      "Dataset 60: Test loss = 0.007654; Test accuracy = 0.992233\n",
      "Dataset 61: Test loss = 0.027581; Test accuracy = 0.970000\n",
      "Dataset 62: Test loss = 0.017972; Test accuracy = 0.982213\n",
      "Dataset 63: Test loss = 0.014309; Test accuracy = 0.984190\n",
      "Dataset 64: Test loss = 0.003468; Test accuracy = 0.996078\n",
      "Dataset 65: Test loss = 0.004210; Test accuracy = 0.994012\n",
      "Dataset 66: Test loss = 0.008620; Test accuracy = 0.992172\n",
      "Dataset 67: Test loss = 0.009051; Test accuracy = 0.984190\n",
      "Dataset 68: Test loss = 0.023227; Test accuracy = 0.976048\n",
      "Dataset 69: Test loss = 0.012315; Test accuracy = 0.988000\n",
      "Dataset 70: Test loss = 0.020989; Test accuracy = 0.978431\n",
      "Dataset 71: Test loss = 0.010652; Test accuracy = 0.990079\n",
      "Dataset 72: Test loss = 0.013154; Test accuracy = 0.986166\n",
      "Dataset 73: Test loss = 0.014732; Test accuracy = 0.984000\n",
      "Dataset 74: Test loss = 0.008833; Test accuracy = 0.992048\n",
      "Dataset 75: Test loss = 0.021622; Test accuracy = 0.970414\n",
      "Dataset 76: Test loss = 0.011262; Test accuracy = 0.988166\n",
      "Dataset 77: Test loss = 0.014277; Test accuracy = 0.986355\n",
      "Dataset 78: Test loss = 0.013309; Test accuracy = 0.984158\n",
      "Dataset 79: Test loss = 0.013493; Test accuracy = 0.984496\n",
      "Dataset 80: Test loss = 0.018286; Test accuracy = 0.976331\n",
      "Dataset 81: Test loss = 0.014180; Test accuracy = 0.984032\n",
      "Dataset 82: Test loss = 0.010508; Test accuracy = 0.990020\n",
      "Dataset 83: Test loss = 0.011286; Test accuracy = 0.988142\n",
      "Dataset 84: Test loss = 0.008127; Test accuracy = 0.992000\n",
      "Dataset 85: Test loss = 0.004851; Test accuracy = 0.994106\n",
      "Dataset 86: Test loss = 0.019283; Test accuracy = 0.976000\n",
      "Dataset 87: Test loss = 0.011345; Test accuracy = 0.982759\n",
      "Dataset 88: Test loss = 0.022436; Test accuracy = 0.976096\n",
      "Dataset 89: Test loss = 0.019445; Test accuracy = 0.980237\n",
      "Dataset 90: Test loss = 0.016706; Test accuracy = 0.980040\n",
      "Dataset 91: Test loss = 0.012087; Test accuracy = 0.984190\n",
      "Dataset 92: Test loss = 0.017169; Test accuracy = 0.978088\n",
      "Dataset 93: Test loss = 0.040439; Test accuracy = 0.956175\n",
      "Dataset 94: Test loss = 0.013836; Test accuracy = 0.986248\n",
      "Dataset 95: Test loss = 0.016497; Test accuracy = 0.980315\n",
      "Dataset 96: Test loss = 0.006207; Test accuracy = 0.994275\n",
      "Dataset 97: Test loss = 0.009040; Test accuracy = 0.992032\n",
      "Dataset 98: Test loss = 0.019722; Test accuracy = 0.980040\n",
      "Dataset 99: Test loss = 0.009809; Test accuracy = 0.990253\n"
     ]
    }
   ],
   "source": [
    "np.random.seed(seed)\n",
    "model = make_model()\n",
    "\n",
    "for iter in range(100:)\n",
    "    for d in range(n_data):\n",
    "        (X_train, Y_train), (X_valid, Y_valid), (X_test, Y_test) = load_pkl_data(d)\n",
    "        _, history = run_model(model, (X_train, Y_train), (X_valid, Y_valid), \n",
    "                  data_augmentation=True, verbose=0)\n",
    "        score = model.evaluate(X_test, Y_test, verbose=0)\n",
    "        print('Iter %d, Dataset %d: Test loss = %f; Test accuracy = %f' % (iter, d, score[0], score[1]))\n",
    "        if iter > 0 and iter % 10 == 0:\n",
    "            model.save('models/CNN_HiTS_demo_big_%02d.hdf5' % iter)"
   ]
  },
  {
   "cell_type": "code",
   "execution_count": 95,
   "metadata": {
    "collapsed": true
   },
   "outputs": [],
   "source": [
    "model.save('models/CNN_HiTS_demo_big_FINAL.hdf5')"
   ]
  },
  {
   "cell_type": "code",
   "execution_count": null,
   "metadata": {
    "collapsed": true
   },
   "outputs": [],
   "source": [
    "fpr, tpr, thresholds = metrics.roc_curve(Y_test[:,1].astype(int), pred)\n",
    "plt.plot(fpr, tpr, label='ROC Curve')\n",
    "plt.xlabel('FPR'); plt.ylabel('TPR (recall)')"
   ]
  },
  {
   "cell_type": "code",
   "execution_count": null,
   "metadata": {
    "collapsed": true
   },
   "outputs": [],
   "source": []
  },
  {
   "cell_type": "code",
   "execution_count": null,
   "metadata": {
    "collapsed": true
   },
   "outputs": [],
   "source": []
  },
  {
   "cell_type": "code",
   "execution_count": null,
   "metadata": {
    "collapsed": true
   },
   "outputs": [],
   "source": []
  },
  {
   "cell_type": "markdown",
   "metadata": {},
   "source": [
    "Try using `fit_generator()` with a data generator."
   ]
  },
  {
   "cell_type": "code",
   "execution_count": 8,
   "metadata": {
    "collapsed": true
   },
   "outputs": [],
   "source": [
    "from keras.preprocessing.image import ImageDataGenerator\n",
    "\n",
    "# This will do preprocessing and realtime data augmentation:\n",
    "imageDatagen = ImageDataGenerator(\n",
    "    featurewise_center=False,  # set input mean to 0 over the dataset\n",
    "    samplewise_center=False,  # set each sample mean to 0\n",
    "    featurewise_std_normalization=False,  # divide inputs by std of the dataset\n",
    "    samplewise_std_normalization=False,  # divide each input by its std\n",
    "    zca_whitening=False,  # apply ZCA whitening\n",
    "    rotation_range=0,  # randomly rotate images in the range (degrees, 0 to 180)\n",
    "    width_shift_range=0.,  # randomly shift images horizontally (fraction of total width)\n",
    "    height_shift_range=0.,  # randomly shift images vertically (fraction of total height)\n",
    "    horizontal_flip=True,  # randomly flip images\n",
    "    vertical_flip=True)  # randomly flip images"
   ]
  },
  {
   "cell_type": "code",
   "execution_count": 9,
   "metadata": {},
   "outputs": [
    {
     "name": "stdout",
     "output_type": "stream",
     "text": [
      "(5062, 4, 21, 21) (5062, 2)\n"
     ]
    },
    {
     "data": {
      "text/plain": [
       "(32, 4, 21, 21)"
      ]
     },
     "execution_count": 9,
     "metadata": {},
     "output_type": "execute_result"
    }
   ],
   "source": [
    "chunk = 3\n",
    "(X, Y), _, _ = load_pkl_data(chunk, split_frac=(1.0, 1.0), verbose=False)\n",
    "print(X.shape, Y.shape)\n",
    "\n",
    "tmp = imageDatagen.flow(X, Y, batch_size=32).next()\n",
    "tmp[0].shape"
   ]
  },
  {
   "cell_type": "code",
   "execution_count": 31,
   "metadata": {
    "collapsed": true
   },
   "outputs": [],
   "source": [
    "batch_size = 32\n",
    "\n",
    "def data_generator_train():\n",
    "    data_range = np.arange(150)  # use inds 0-150 for training\n",
    "    while True:\n",
    "        chunk = np.random.choice(data_range, size=1)[0]\n",
    "        print('TRAIN:', chunk)\n",
    "        (X, Y), _, _ = load_pkl_data(chunk, split_frac=(1.0, 1.0), verbose=False)\n",
    "        for i in range(X.shape[0]//batch_size):  # about 5000/32 = 150\n",
    "            Xb, Yb = imageDatagen.flow(X, Y, batch_size=batch_size).next()\n",
    "            yield (Xb, Yb)\n",
    "\n",
    "def data_generator_valid():\n",
    "    data_range = np.arange(151, 235)  # use inds 151-234 for validation\n",
    "    while True:\n",
    "        chunk = np.random.choice(data_range, size=1)[0]\n",
    "        print('VALID:', chunk)\n",
    "        (X, Y), _, _ = load_pkl_data(chunk, split_frac=(1.0, 1.0), verbose=False)\n",
    "        for i in range(X.shape[0]//batch_size): # about 5000/32 = 150\n",
    "            Xb, Yb = imageDatagen.flow(X, Y, batch_size=batch_size).next()\n",
    "            yield (Xb, Yb)\n",
    "        \n",
    "# Then we can use inds 235-284 as test data.\n",
    "def data_generator_test():\n",
    "    data_range = np.arange(235, 285)  # use inds 235-284 for test\n",
    "    while True:\n",
    "        chunk = np.random.choice(data_range, size=1)[0]\n",
    "        print('TEST:', chunk)\n",
    "        (X, Y), _, _ = load_pkl_data(chunk, split_frac=(1.0, 1.0), verbose=False)\n",
    "        for i in range(X.shape[0]//batch_size): # about 5000/32 = 150\n",
    "            Xb, Yb = imageDatagen.flow(X, Y, batch_size=batch_size).next()\n",
    "            yield (Xb, Yb)"
   ]
  },
  {
   "cell_type": "code",
   "execution_count": 29,
   "metadata": {
    "scrolled": true
   },
   "outputs": [
    {
     "name": "stdout",
     "output_type": "stream",
     "text": [
      "TRAIN:Epoch 1/10000 \n",
      "86\n",
      " 99/100 [============================>.] - ETA: 0s - loss: 0.0741 - acc: 0.9097VALID: 190\n",
      "Epoch 00000: val_loss improved from inf to 0.03313, saving model to ./best_model.hdf5\n",
      "100/100 [==============================] - 26s - loss: 0.0734 - acc: 0.9106 - val_loss: 0.0331 - val_acc: 0.9688\n",
      "Epoch 2/10000\n",
      " 46/100 [============>.................] - ETA: 14s - loss: 0.0237 - acc: 0.9735TRAIN: 65\n",
      " 99/100 [============================>.] - ETA: 0s - loss: 0.0293 - acc: 0.9669Epoch 00001: val_loss did not improve\n",
      "100/100 [==============================] - 26s - loss: 0.0301 - acc: 0.9659 - val_loss: 0.0901 - val_acc: 0.9062\n",
      "Epoch 3/10000\n",
      " 99/100 [============================>.] - ETA: 0s - loss: 0.0498 - acc: 0.9479Epoch 00002: val_loss improved from 0.03313 to 0.03207, saving model to ./best_model.hdf5\n",
      "100/100 [==============================] - 27s - loss: 0.0494 - acc: 0.9484 - val_loss: 0.0321 - val_acc: 0.9688\n",
      "Epoch 4/10000\n",
      "  2/100 [..............................] - ETA: 22s - loss: 0.0172 - acc: 0.9844TRAIN: 80\n",
      " 99/100 [============================>.] - ETA: 0s - loss: 0.0321 - acc: 0.9637Epoch 00003: val_loss improved from 0.03207 to 0.03131, saving model to ./best_model.hdf5\n",
      "100/100 [==============================] - 27s - loss: 0.0320 - acc: 0.9637 - val_loss: 0.0313 - val_acc: 0.9688\n",
      "Epoch 5/10000\n",
      " 60/100 [=================>............] - ETA: 11s - loss: 0.0287 - acc: 0.9682TRAIN: 149\n",
      " 99/100 [============================>.] - ETA: 0s - loss: 0.0245 - acc: 0.9729Epoch 00004: val_loss did not improve\n",
      "100/100 [==============================] - 30s - loss: 0.0248 - acc: 0.9725 - val_loss: 0.0342 - val_acc: 0.9688\n",
      "Epoch 6/10000\n",
      " 99/100 [============================>.] - ETA: 0s - loss: 0.0179 - acc: 0.9814Epoch 00005: val_loss improved from 0.03131 to 0.00836, saving model to ./best_model.hdf5\n",
      "100/100 [==============================] - 25s - loss: 0.0178 - acc: 0.9816 - val_loss: 0.0084 - val_acc: 1.0000\n",
      "Epoch 7/10000\n",
      " 23/100 [=====>........................] - ETA: 20s - loss: 0.0107 - acc: 0.9891TRAIN: 138\n",
      " 99/100 [============================>.] - ETA: 0s - loss: 0.0185 - acc: 0.9782Epoch 00006: val_loss did not improve\n",
      "100/100 [==============================] - 28s - loss: 0.0186 - acc: 0.9781 - val_loss: 0.0522 - val_acc: 0.9375\n",
      "Epoch 8/10000\n",
      " 83/100 [=======================>......] - ETA: 4s - loss: 0.0202 - acc: 0.9770TRAIN: 43\n",
      " 99/100 [============================>.] - ETA: 0s - loss: 0.0207 - acc: 0.9763Epoch 00007: val_loss improved from 0.00836 to 0.00075, saving model to ./best_model.hdf5\n",
      "100/100 [==============================] - 28s - loss: 0.0206 - acc: 0.9766 - val_loss: 7.4984e-04 - val_acc: 1.0000\n",
      "Epoch 9/10000\n",
      " 99/100 [============================>.] - ETA: 0s - loss: 0.0204 - acc: 0.9760Epoch 00008: val_loss did not improve\n",
      "100/100 [==============================] - 28s - loss: 0.0203 - acc: 0.9759 - val_loss: 0.0266 - val_acc: 0.9688\n",
      "Epoch 10/10000\n",
      " 41/100 [===========>..................] - ETA: 15s - loss: 0.0150 - acc: 0.9832TRAIN: 87\n",
      " 99/100 [============================>.] - ETA: 0s - loss: 0.0150 - acc: 0.9839Epoch 00009: val_loss did not improve\n",
      "100/100 [==============================] - 27s - loss: 0.0149 - acc: 0.9841 - val_loss: 0.0404 - val_acc: 0.9688\n",
      "Epoch 11/10000\n",
      " 99/100 [============================>.] - ETA: 0s - loss: 0.0161 - acc: 0.9826Epoch 00010: val_loss improved from 0.00075 to 0.00014, saving model to ./best_model.hdf5\n",
      "100/100 [==============================] - 33s - loss: 0.0160 - acc: 0.9828 - val_loss: 1.4161e-04 - val_acc: 1.0000\n",
      "Epoch 12/10000\n",
      "  3/100 [..............................] - ETA: 26s - loss: 0.0182 - acc: 0.9792TRAIN: 106\n",
      " 99/100 [============================>.] - ETA: 0s - loss: 0.0161 - acc: 0.9826Epoch 00011: val_loss did not improve\n",
      "100/100 [==============================] - 27s - loss: 0.0162 - acc: 0.9825 - val_loss: 0.0313 - val_acc: 0.9688\n",
      "Epoch 13/10000\n",
      " 59/100 [================>.............] - ETA: 10s - loss: 0.0119 - acc: 0.9868TRAIN: 78\n",
      " 99/100 [============================>.] - ETA: 0s - loss: 0.0129 - acc: 0.9864Epoch 00012: val_loss did not improve\n",
      "100/100 [==============================] - 29s - loss: 0.0128 - acc: 0.9866 - val_loss: 0.0191 - val_acc: 0.9688\n",
      "Epoch 14/10000\n",
      " 99/100 [============================>.] - ETA: 0s - loss: 0.0737 - acc: 0.9170Epoch 00013: val_loss did not improve\n",
      "100/100 [==============================] - 27s - loss: 0.0734 - acc: 0.9175 - val_loss: 0.0262 - val_acc: 0.9375\n",
      "Epoch 15/10000\n",
      " 16/100 [===>..........................] - ETA: 23s - loss: 0.0224 - acc: 0.9746TRAIN: 62\n",
      " 99/100 [============================>.] - ETA: 0s - loss: 0.0258 - acc: 0.9706Epoch 00014: val_loss did not improve\n",
      "100/100 [==============================] - 28s - loss: 0.0262 - acc: 0.9703 - val_loss: 0.0593 - val_acc: 0.9375\n",
      "Epoch 16/10000\n",
      " 74/100 [=====================>........] - ETA: 7s - loss: 0.0283 - acc: 0.9692TRAIN: 50\n",
      " 99/100 [============================>.] - ETA: 0s - loss: 0.0279 - acc: 0.9684Epoch 00015: val_loss did not improve\n",
      "100/100 [==============================] - 29s - loss: 0.0276 - acc: 0.9688 - val_loss: 4.1842e-04 - val_acc: 1.0000\n",
      "Epoch 17/10000\n",
      " 99/100 [============================>.] - ETA: 0s - loss: 0.0226 - acc: 0.9747Epoch 00016: val_loss did not improve\n",
      "100/100 [==============================] - 25s - loss: 0.0224 - acc: 0.9750 - val_loss: 0.0125 - val_acc: 0.9688\n",
      "Epoch 18/10000\n",
      " 33/100 [========>.....................] - ETA: 16s - loss: 0.0206 - acc: 0.9792TRAIN: 45\n",
      " 99/100 [============================>.] - ETA: 0s - loss: 0.0200 - acc: 0.9792Epoch 00017: val_loss improved from 0.00014 to 0.00001, saving model to ./best_model.hdf5\n",
      "100/100 [==============================] - 26s - loss: 0.0203 - acc: 0.9788 - val_loss: 7.2071e-06 - val_acc: 1.0000\n",
      "Epoch 19/10000\n",
      " 89/100 [=========================>....] - ETA: 2s - loss: 0.0197 - acc: 0.9765TRAIN: 142\n",
      " 99/100 [============================>.] - ETA: 0s - loss: 0.0197 - acc: 0.9766Epoch 00018: val_loss did not improve\n",
      "100/100 [==============================] - 24s - loss: 0.0195 - acc: 0.9769 - val_loss: 4.7603e-04 - val_acc: 1.0000\n",
      "Epoch 20/10000\n",
      " 99/100 [============================>.] - ETA: 0s - loss: 0.0206 - acc: 0.9763Epoch 00019: val_loss did not improve\n",
      "100/100 [==============================] - 25s - loss: 0.0206 - acc: 0.9762 - val_loss: 0.0256 - val_acc: 0.9688\n",
      "Epoch 21/10000\n",
      " 46/100 [============>.................] - ETA: 12s - loss: 0.0291 - acc: 0.9681TRAIN: 135\n",
      " 99/100 [============================>.] - ETA: 0s - loss: 0.0211 - acc: 0.9773Epoch 00020: val_loss did not improve\n",
      "100/100 [==============================] - 24s - loss: 0.0214 - acc: 0.9769 - val_loss: 0.0618 - val_acc: 0.9375\n",
      "Epoch 22/10000\n",
      " 99/100 [============================>.] - ETA: 0s - loss: 0.0252 - acc: 0.9713Epoch 00021: val_loss did not improve\n",
      "100/100 [==============================] - 27s - loss: 0.0250 - acc: 0.9716 - val_loss: 0.0079 - val_acc: 1.0000\n",
      "Epoch 23/10000\n",
      "  5/100 [>.............................] - ETA: 24s - loss: 0.0303 - acc: 0.9625TRAIN: 63\n",
      " 99/100 [============================>.] - ETA: 0s - loss: 0.0167 - acc: 0.9811Epoch 00022: val_loss did not improve\n",
      "100/100 [==============================] - 25s - loss: 0.0165 - acc: 0.9813 - val_loss: 0.0612 - val_acc: 0.9375\n",
      "Epoch 24/10000\n",
      " 62/100 [=================>............] - ETA: 9s - loss: 0.0195 - acc: 0.9783TRAIN: 52\n",
      " 99/100 [============================>.] - ETA: 0s - loss: 0.0213 - acc: 0.9751Epoch 00023: val_loss did not improve\n",
      "100/100 [==============================] - 26s - loss: 0.0213 - acc: 0.9750 - val_loss: 0.0046 - val_acc: 1.0000\n",
      "Epoch 25/10000\n",
      " 99/100 [============================>.] - ETA: 0s - loss: 0.0283 - acc: 0.9681Epoch 00024: val_loss did not improve\n",
      "100/100 [==============================] - 24s - loss: 0.0281 - acc: 0.9684 - val_loss: 0.0141 - val_acc: 1.0000\n",
      "Epoch 26/10000\n",
      " 21/100 [=====>........................] - ETA: 18s - loss: 0.0186 - acc: 0.9807TRAIN: 62\n",
      " 99/100 [============================>.] - ETA: 0s - loss: 0.0237 - acc: 0.9732Epoch 00025: val_loss did not improve\n"
     ]
    },
    {
     "name": "stdout",
     "output_type": "stream",
     "text": [
      "100/100 [==============================] - 26s - loss: 0.0235 - acc: 0.9734 - val_loss: 0.0020 - val_acc: 1.0000\n",
      "Epoch 27/10000\n",
      " 79/100 [======================>.......] - ETA: 4s - loss: 0.0175 - acc: 0.9814TRAIN: 108\n",
      " 99/100 [============================>.] - ETA: 0s - loss: 0.0187 - acc: 0.9801Epoch 00026: val_loss did not improve\n",
      "100/100 [==============================] - 24s - loss: 0.0188 - acc: 0.9800 - val_loss: 4.2166e-04 - val_acc: 1.0000\n",
      "Epoch 28/10000\n",
      " 99/100 [============================>.] - ETA: 0s - loss: 0.0254 - acc: 0.9694VALID: 212\n",
      "Epoch 00027: val_loss did not improve\n",
      "100/100 [==============================] - 25s - loss: 0.0255 - acc: 0.9694 - val_loss: 0.0084 - val_acc: 1.0000\n",
      "Epoch 29/10000\n",
      " 38/100 [==========>...................] - ETA: 20s - loss: 0.0153 - acc: 0.9827TRAIN: 61\n",
      " 99/100 [============================>.] - ETA: 0s - loss: 0.0242 - acc: 0.9719Epoch 00028: val_loss did not improve\n",
      "100/100 [==============================] - 27s - loss: 0.0240 - acc: 0.9722 - val_loss: 0.0219 - val_acc: 0.9688\n",
      "Epoch 30/10000\n",
      " 94/100 [===========================>..] - ETA: 1s - loss: 0.0225 - acc: 0.9741TRAIN: 38\n",
      " 99/100 [============================>.] - ETA: 0s - loss: 0.0226 - acc: 0.9738Epoch 00029: val_loss did not improve\n",
      "100/100 [==============================] - 24s - loss: 0.0230 - acc: 0.9734 - val_loss: 0.0352 - val_acc: 0.9688\n",
      "Epoch 31/10000\n",
      " 99/100 [============================>.] - ETA: 0s - loss: 0.0197 - acc: 0.9776Epoch 00030: val_loss did not improve\n",
      "100/100 [==============================] - 26s - loss: 0.0196 - acc: 0.9778 - val_loss: 0.0646 - val_acc: 0.9375\n",
      "Epoch 32/10000\n",
      " 53/100 [==============>...............] - ETA: 11s - loss: 0.0239 - acc: 0.9752TRAIN: 51\n",
      " 99/100 [============================>.] - ETA: 0s - loss: 0.0211 - acc: 0.9776Epoch 00031: val_loss did not improve\n",
      "100/100 [==============================] - 24s - loss: 0.0209 - acc: 0.9778 - val_loss: 7.0159e-05 - val_acc: 1.0000\n",
      "Epoch 33/10000\n",
      " 99/100 [============================>.] - ETA: 0s - loss: 0.0130 - acc: 0.9852Epoch 00032: val_loss did not improve\n",
      "100/100 [==============================] - 25s - loss: 0.0129 - acc: 0.9853 - val_loss: 3.6026e-04 - val_acc: 1.0000\n",
      "Epoch 34/10000\n",
      " 11/100 [==>...........................] - ETA: 22s - loss: 0.0140 - acc: 0.9830TRAIN: 142\n",
      " 99/100 [============================>.] - ETA: 0s - loss: 0.0214 - acc: 0.9757Epoch 00033: val_loss did not improve\n",
      "100/100 [==============================] - 24s - loss: 0.0219 - acc: 0.9753 - val_loss: 0.0313 - val_acc: 0.9688\n",
      "Epoch 35/10000\n",
      " 68/100 [===================>..........] - ETA: 7s - loss: 0.0165 - acc: 0.9812TRAIN: 98\n",
      " 99/100 [============================>.] - ETA: 0s - loss: 0.0140 - acc: 0.9839Epoch 00034: val_loss did not improve\n",
      "100/100 [==============================] - 26s - loss: 0.0139 - acc: 0.9841 - val_loss: 0.0010 - val_acc: 1.0000\n",
      "Epoch 36/10000\n",
      " 99/100 [============================>.] - ETA: 0s - loss: 0.0155 - acc: 0.9823Epoch 00035: val_loss did not improve\n",
      "100/100 [==============================] - 24s - loss: 0.0153 - acc: 0.9825 - val_loss: 1.1929e-04 - val_acc: 1.0000\n",
      "Epoch 37/10000\n",
      " 24/100 [======>.......................] - ETA: 18s - loss: 0.0111 - acc: 0.9870TRAIN: 12\n",
      " 99/100 [============================>.] - ETA: 0s - loss: 0.0122 - acc: 0.9861Epoch 00036: val_loss did not improve\n",
      "100/100 [==============================] - 26s - loss: 0.0121 - acc: 0.9862 - val_loss: 0.0510 - val_acc: 0.9375\n",
      "Epoch 38/10000\n",
      " 80/100 [=======================>......] - ETA: 4s - loss: 0.0177 - acc: 0.9805TRAIN: 50\n",
      " 99/100 [============================>.] - ETA: 0s - loss: 0.0178 - acc: 0.9801Epoch 00037: val_loss did not improve\n",
      "100/100 [==============================] - 24s - loss: 0.0177 - acc: 0.9803 - val_loss: 0.0028 - val_acc: 1.0000\n",
      "Epoch 39/10000\n",
      " 99/100 [============================>.] - ETA: 0s - loss: 0.0212 - acc: 0.9763Epoch 00038: val_loss did not improve\n",
      "100/100 [==============================] - 24s - loss: 0.0210 - acc: 0.9766 - val_loss: 0.0012 - val_acc: 1.0000\n",
      "Epoch 40/10000\n",
      " 39/100 [==========>...................] - ETA: 18s - loss: 0.0284 - acc: 0.9688TRAIN: 123\n",
      " 99/100 [============================>.] - ETA: 0s - loss: 0.0240 - acc: 0.9744Epoch 00039: val_loss did not improve\n",
      "100/100 [==============================] - 27s - loss: 0.0241 - acc: 0.9744 - val_loss: 0.0303 - val_acc: 0.9688\n",
      "Epoch 41/10000\n",
      " 96/100 [===========================>..] - ETA: 0s - loss: 0.0142 - acc: 0.9850TRAIN: 103\n",
      " 99/100 [============================>.] - ETA: 0s - loss: 0.0141 - acc: 0.9852Epoch 00040: val_loss did not improve\n",
      "100/100 [==============================] - 24s - loss: 0.0140 - acc: 0.9853 - val_loss: 0.0381 - val_acc: 0.9375\n",
      "Epoch 42/10000\n",
      " 99/100 [============================>.] - ETA: 0s - loss: 0.0115 - acc: 0.9871Epoch 00041: val_loss did not improve\n",
      "100/100 [==============================] - 26s - loss: 0.0113 - acc: 0.9872 - val_loss: 0.0311 - val_acc: 0.9688\n",
      "Epoch 43/10000\n",
      " 53/100 [==============>...............] - ETA: 11s - loss: 0.0089 - acc: 0.9906TRAIN: 50\n",
      " 99/100 [============================>.] - ETA: 0s - loss: 0.0111 - acc: 0.9886Epoch 00042: val_loss did not improve\n",
      "100/100 [==============================] - 24s - loss: 0.0109 - acc: 0.9887 - val_loss: 4.6407e-04 - val_acc: 1.0000\n",
      "Epoch 44/10000\n",
      " 99/100 [============================>.] - ETA: 0s - loss: 0.0239 - acc: 0.9738Epoch 00043: val_loss did not improve\n",
      "100/100 [==============================] - 30s - loss: 0.0243 - acc: 0.9734 - val_loss: 0.0077 - val_acc: 1.0000\n",
      "Epoch 45/10000\n",
      " 12/100 [==>...........................] - ETA: 20s - loss: 0.0153 - acc: 0.9844TRAIN: 86\n",
      " 99/100 [============================>.] - ETA: 0s - loss: 0.0155 - acc: 0.9833Epoch 00044: val_loss did not improve\n",
      "100/100 [==============================] - 23s - loss: 0.0154 - acc: 0.9834 - val_loss: 0.0026 - val_acc: 1.0000\n",
      "Epoch 46/10000\n",
      " 68/100 [===================>..........] - ETA: 6s - loss: 0.0153 - acc: 0.9835TRAIN: 128\n",
      " 99/100 [============================>.] - ETA: 0s - loss: 0.0133 - acc: 0.9855Epoch 00045: val_loss improved from 0.00001 to 0.00000, saving model to ./best_model.hdf5\n",
      "100/100 [==============================] - 23s - loss: 0.0137 - acc: 0.9850 - val_loss: 4.1518e-06 - val_acc: 1.0000\n",
      "Epoch 47/10000\n",
      " 99/100 [============================>.] - ETA: 0s - loss: 0.0109 - acc: 0.9883Epoch 00046: val_loss did not improve\n",
      "100/100 [==============================] - 22s - loss: 0.0108 - acc: 0.9884 - val_loss: 1.5294e-05 - val_acc: 1.0000\n",
      "Epoch 48/10000\n",
      " 25/100 [======>.......................] - ETA: 17s - loss: 0.0121 - acc: 0.9875TRAIN: 132\n",
      " 99/100 [============================>.] - ETA: 0s - loss: 0.0190 - acc: 0.9792- ETA: 1s - loss: 0.0184 - acc:Epoch 00047: val_loss did not improve\n",
      "100/100 [==============================] - 23s - loss: 0.0191 - acc: 0.9791 - val_loss: 5.7249e-04 - val_acc: 1.0000\n",
      "Epoch 49/10000\n",
      " 81/100 [=======================>......] - ETA: 4s - loss: 0.0127 - acc: 0.9853TRAIN: 95\n",
      " 99/100 [============================>.] - ETA: 0s - loss: 0.0137 - acc: 0.9845Epoch 00048: val_loss did not improve\n",
      "100/100 [==============================] - 23s - loss: 0.0136 - acc: 0.9847 - val_loss: 3.5928e-04 - val_acc: 1.0000\n",
      "Epoch 50/10000\n",
      " 99/100 [============================>.] - ETA: 0s - loss: 0.0187 - acc: 0.9792Epoch 00049: val_loss did not improve\n",
      "100/100 [==============================] - 28s - loss: 0.0189 - acc: 0.9791 - val_loss: 4.3294e-04 - val_acc: 1.0000\n",
      "Epoch 51/10000\n",
      " 39/100 [==========>...................] - ETA: 14s - loss: 0.0184 - acc: 0.9768TRAIN: 9\n",
      " 99/100 [============================>.] - ETA: 0s - loss: 0.0155 - acc: 0.9817Epoch 00050: val_loss did not improve\n",
      "100/100 [==============================] - 24s - loss: 0.0163 - acc: 0.9809 - val_loss: 0.0102 - val_acc: 0.9688\n",
      "Epoch 52/10000\n",
      " 95/100 [===========================>..] - ETA: 1s - loss: 0.0124 - acc: 0.9862TRAIN: 117\n",
      " 99/100 [============================>.] - ETA: 0s - loss: 0.0120 - acc: 0.9864Epoch 00051: val_loss did not improve\n",
      "100/100 [==============================] - 26s - loss: 0.0119 - acc: 0.9866 - val_loss: 0.0056 - val_acc: 1.0000\n",
      "Epoch 53/10000\n"
     ]
    },
    {
     "name": "stdout",
     "output_type": "stream",
     "text": [
      " 99/100 [============================>.] - ETA: 0s - loss: 0.0121 - acc: 0.9871Epoch 00052: val_loss improved from 0.00000 to 0.00000, saving model to ./best_model.hdf5\n",
      "100/100 [==============================] - 28s - loss: 0.0120 - acc: 0.9872 - val_loss: 2.8946e-06 - val_acc: 1.0000\n",
      "Epoch 54/10000\n",
      " 51/100 [==============>...............] - ETA: 13s - loss: 0.0140 - acc: 0.9835TRAIN: 116\n",
      " 99/100 [============================>.] - ETA: 0s - loss: 0.0137 - acc: 0.9845VALID: 168\n",
      "Epoch 00053: val_loss did not improve\n",
      "100/100 [==============================] - 30s - loss: 0.0136 - acc: 0.9844 - val_loss: 0.0313 - val_acc: 0.9688\n",
      "Epoch 55/10000\n",
      " 99/100 [============================>.] - ETA: 0s - loss: 0.0125 - acc: 0.9839Epoch 00054: val_loss did not improve\n",
      "100/100 [==============================] - 23s - loss: 0.0123 - acc: 0.9841 - val_loss: 2.5145e-05 - val_acc: 1.0000\n",
      "Epoch 56/10000\n",
      "  7/100 [=>............................] - ETA: 22s - loss: 0.0098 - acc: 0.9911TRAIN: 26\n",
      " 99/100 [============================>.] - ETA: 0s - loss: 0.0095 - acc: 0.9899Epoch 00055: val_loss did not improve\n",
      "100/100 [==============================] - 23s - loss: 0.0094 - acc: 0.9900 - val_loss: 0.0026 - val_acc: 1.0000\n",
      "Epoch 57/10000\n",
      " 64/100 [==================>...........] - ETA: 9s - loss: 0.0097 - acc: 0.9902TRAIN: 27\n",
      " 99/100 [============================>.] - ETA: 0s - loss: 0.0158 - acc: 0.9836Epoch 00056: val_loss did not improve\n",
      "100/100 [==============================] - 25s - loss: 0.0159 - acc: 0.9834 - val_loss: 5.5672e-06 - val_acc: 1.0000\n",
      "Epoch 58/10000\n",
      " 99/100 [============================>.] - ETA: 0s - loss: 0.0164 - acc: 0.9817Epoch 00057: val_loss did not improve\n",
      "100/100 [==============================] - 22s - loss: 0.0163 - acc: 0.9819 - val_loss: 5.7957e-04 - val_acc: 1.0000\n",
      "Epoch 59/10000\n",
      " 20/100 [=====>........................] - ETA: 17s - loss: 0.0166 - acc: 0.9797TRAIN: 22\n",
      " 99/100 [============================>.] - ETA: 0s - loss: 0.0185 - acc: 0.9785Epoch 00058: val_loss did not improve\n",
      "100/100 [==============================] - 24s - loss: 0.0183 - acc: 0.9788 - val_loss: 1.2447e-04 - val_acc: 1.0000\n",
      "Epoch 60/10000\n",
      " 77/100 [======================>.......] - ETA: 5s - loss: 0.0174 - acc: 0.9813TRAIN: 141\n",
      " 99/100 [============================>.] - ETA: 0s - loss: 0.0176 - acc: 0.9811Epoch 00059: val_loss did not improve\n",
      "100/100 [==============================] - 23s - loss: 0.0174 - acc: 0.9813 - val_loss: 0.0313 - val_acc: 0.9688\n",
      "Epoch 61/10000\n",
      " 99/100 [============================>.] - ETA: 0s - loss: 0.0183 - acc: 0.9798Epoch 00060: val_loss did not improve\n",
      "100/100 [==============================] - 27s - loss: 0.0181 - acc: 0.9800 - val_loss: 0.0179 - val_acc: 0.9688\n",
      "Epoch 62/10000\n",
      " 33/100 [========>.....................] - ETA: 15s - loss: 0.0214 - acc: 0.9754TRAIN: 25\n",
      " 99/100 [============================>.] - ETA: 0s - loss: 0.0165 - acc: 0.9811Epoch 00061: val_loss did not improve\n",
      "100/100 [==============================] - 23s - loss: 0.0167 - acc: 0.9809 - val_loss: 0.0736 - val_acc: 0.9062\n",
      "Epoch 63/10000\n",
      " 90/100 [==========================>...] - ETA: 2s - loss: 0.0175 - acc: 0.9802TRAIN: 139\n",
      " 99/100 [============================>.] - ETA: 0s - loss: 0.0179 - acc: 0.9798Epoch 00062: val_loss did not improve\n",
      "100/100 [==============================] - 25s - loss: 0.0182 - acc: 0.9797 - val_loss: 0.0382 - val_acc: 0.9688\n",
      "Epoch 64/10000\n",
      " 99/100 [============================>.] - ETA: 0s - loss: 0.0189 - acc: 0.9789Epoch 00063: val_loss did not improve\n",
      "100/100 [==============================] - 27s - loss: 0.0191 - acc: 0.9784 - val_loss: 5.2130e-04 - val_acc: 1.0000\n",
      "Epoch 65/10000\n",
      " 49/100 [=============>................] - ETA: 12s - loss: 0.0163 - acc: 0.9821TRAIN: 54\n",
      " 99/100 [============================>.] - ETA: 0s - loss: 0.0175 - acc: 0.9804Epoch 00064: val_loss did not improve\n",
      "100/100 [==============================] - 29s - loss: 0.0174 - acc: 0.9806 - val_loss: 1.7516e-04 - val_acc: 1.0000\n",
      "Epoch 66/10000\n",
      " 99/100 [============================>.] - ETA: 0s - loss: 0.0132 - acc: 0.9845Epoch 00065: val_loss did not improve\n",
      "100/100 [==============================] - 25s - loss: 0.0132 - acc: 0.9847 - val_loss: 0.0021 - val_acc: 1.0000\n",
      "Epoch 67/10000\n",
      "  6/100 [>.............................] - ETA: 23s - loss: 0.0186 - acc: 0.9688TRAIN: 140\n",
      " 99/100 [============================>.] - ETA: 0s - loss: 0.0116 - acc: 0.9867Epoch 00066: val_loss did not improve\n",
      "100/100 [==============================] - 25s - loss: 0.0115 - acc: 0.9869 - val_loss: 0.0313 - val_acc: 0.9688\n",
      "Epoch 68/10000\n",
      " 62/100 [=================>............] - ETA: 11s - loss: 0.0114 - acc: 0.9864TRAIN: 117\n",
      " 99/100 [============================>.] - ETA: 0s - loss: 0.0112 - acc: 0.9871Epoch 00067: val_loss did not improve\n",
      "100/100 [==============================] - 28s - loss: 0.0113 - acc: 0.9869 - val_loss: 4.8033e-04 - val_acc: 1.0000\n",
      "Epoch 69/10000\n",
      " 99/100 [============================>.] - ETA: 0s - loss: 0.0118 - acc: 0.9867Epoch 00068: val_loss did not improve\n",
      "100/100 [==============================] - 25s - loss: 0.0117 - acc: 0.9869 - val_loss: 0.0039 - val_acc: 1.0000\n",
      "Epoch 70/10000\n",
      " 18/100 [====>.........................] - ETA: 27s - loss: 0.0107 - acc: 0.9861TRAIN: 19\n",
      " 99/100 [============================>.] - ETA: 0s - loss: 0.0138 - acc: 0.9848Epoch 00069: val_loss did not improve\n",
      "100/100 [==============================] - 28s - loss: 0.0136 - acc: 0.9850 - val_loss: 0.0313 - val_acc: 0.9688\n",
      "Epoch 71/10000\n",
      " 75/100 [=====================>........] - ETA: 6s - loss: 0.0081 - acc: 0.9917TRAIN: 48\n",
      " 99/100 [============================>.] - ETA: 0s - loss: 0.0082 - acc: 0.9905Epoch 00070: val_loss did not improve\n",
      "100/100 [==============================] - 26s - loss: 0.0081 - acc: 0.9906 - val_loss: 0.0332 - val_acc: 0.9688\n",
      "Epoch 72/10000\n",
      " 99/100 [============================>.] - ETA: 0s - loss: 0.0121 - acc: 0.9864Epoch 00071: val_loss did not improve\n",
      "100/100 [==============================] - 28s - loss: 0.0123 - acc: 0.9862 - val_loss: 0.0141 - val_acc: 0.9688\n",
      "Epoch 73/10000\n",
      " 32/100 [========>.....................] - ETA: 19s - loss: 0.0102 - acc: 0.9883TRAIN: 50\n",
      " 99/100 [============================>.] - ETA: 0s - loss: 0.0144 - acc: 0.9839Epoch 00072: val_loss did not improve\n",
      "100/100 [==============================] - 26s - loss: 0.0145 - acc: 0.9838 - val_loss: 1.4656e-04 - val_acc: 1.0000\n",
      "Epoch 74/10000\n",
      "14 92/100 [==========================>...] ETA: 2s - loss: 0.0158 - acc: 0.9839TRAIN \n",
      " 99/100 [============================>.] - ETA: 0s - loss: 0.0157 - acc: 0.9839Epoch 00073: val_loss did not improve\n",
      "100/100 [==============================] - 25s - loss: 0.0155 - acc: 0.9841 - val_loss: 0.0303 - val_acc: 0.9688\n",
      "Epoch 75/10000\n",
      " 99/100 [============================>.] - ETA: 0s - loss: 0.0103 - acc: 0.9871Epoch 00074: val_loss did not improve\n",
      "100/100 [==============================] - 28s - loss: 0.0103 - acc: 0.9869 - val_loss: 0.0306 - val_acc: 0.9688\n",
      "Epoch 76/10000\n",
      " 51/100 [==============>...............] - ETA: 12s - loss: 0.0116 - acc: 0.9865TRAIN: 62\n",
      " 99/100 [============================>.] - ETA: 0s - loss: 0.0163 - acc: 0.9820Epoch 00075: val_loss did not improve\n",
      "100/100 [==============================] - 25s - loss: 0.0161 - acc: 0.9822 - val_loss: 1.9628e-04 - val_acc: 1.0000\n",
      "Epoch 77/10000\n",
      " 99/100 [============================>.] - ETA: 0s - loss: 0.0160 - acc: 0.9823Epoch 00076: val_loss did not improve\n",
      "100/100 [==============================] - 29s - loss: 0.0159 - acc: 0.9825 - val_loss: 0.0285 - val_acc: 0.9688\n",
      "Epoch 78/10000\n",
      "  9/100 [=>............................] - ETA: 20s - loss: 0.0154 - acc: 0.9826TRAIN: 11\n",
      " 99/100 [============================>.] - ETA: 0s - loss: 0.0109 - acc: 0.9880Epoch 00077: val_loss did not improve\n",
      "100/100 [==============================] - 23s - loss: 0.0112 - acc: 0.9875 - val_loss: 1.0635e-04 - val_acc: 1.0000\n",
      "Epoch 79/10000\n",
      " 71/100 [====================>.........] - ETA: 7s - loss: 0.0135 - acc: 0.9846TRAIN: 139\n",
      " 99/100 [============================>.] - ETA: 0s - loss: 0.0146 - acc: 0.9830Epoch 00078: val_loss did not improve\n"
     ]
    },
    {
     "name": "stdout",
     "output_type": "stream",
     "text": [
      "100/100 [==============================] - 24s - loss: 0.0145 - acc: 0.9831 - val_loss: 3.1275e-05 - val_acc: 1.0000\n",
      "Epoch 80/10000\n",
      " 99/100 [============================>.] - ETA: 0s - loss: 0.0188 - acc: 0.9782Epoch 00079: val_loss did not improve\n",
      "100/100 [==============================] - 23s - loss: 0.0186 - acc: 0.9784 - val_loss: 1.6591e-04 - val_acc: 1.0000\n",
      "Epoch 81/10000\n",
      " 30/100 [========>.....................] - ETA: 18s - loss: 0.0155 - acc: 0.9844TRAIN: 42\n",
      " 99/100 [============================>.] - ETA: 0s - loss: 0.0161 - acc: 0.9820Epoch 00080: val_loss did not improve\n",
      "100/100 [==============================] - 29s - loss: 0.0160 - acc: 0.9822 - val_loss: 0.0671 - val_acc: 0.9375\n",
      "Epoch 82/10000\n",
      " 89/100 [=========================>....] - ETA: 2s - loss: 0.0132 - acc: 0.9849TRAIN: 48\n",
      " 99/100 [============================>.] - ETA: 0s - loss: 0.0144 - acc: 0.9833Epoch 00081: val_loss did not improve\n",
      "100/100 [==============================] - 26s - loss: 0.0143 - acc: 0.9834 - val_loss: 0.0271 - val_acc: 0.9688\n",
      "Epoch 83/10000\n",
      " 99/100 [============================>.] - ETA: 0s - loss: 0.0154 - acc: 0.9826Epoch 00082: val_loss did not improve\n",
      "100/100 [==============================] - 27s - loss: 0.0155 - acc: 0.9825 - val_loss: 6.7646e-05 - val_acc: 1.0000\n",
      "Epoch 84/10000\n",
      " 46/100 [============>.................] - ETA: 13s - loss: 0.0090 - acc: 0.9912TRAIN: 70\n",
      " 99/100 [============================>.] - ETA: 0s - loss: 0.0125 - acc: 0.9861Epoch 00083: val_loss did not improve\n",
      "100/100 [==============================] - 25s - loss: 0.0126 - acc: 0.9859 - val_loss: 0.0200 - val_acc: 0.9688\n",
      "Epoch 85/10000\n",
      " 99/100 [============================>.] - ETA: 0s - loss: 0.0134 - acc: 0.9855VALID: 178\n",
      "Epoch 00084: val_loss did not improve\n",
      "100/100 [==============================] - 28s - loss: 0.0133 - acc: 0.9856 - val_loss: 0.0193 - val_acc: 0.9688\n",
      "Epoch 86/10000\n",
      "  5/100 [>.............................] - ETA: 22s - loss: 0.0061 - acc: 0.9938  TRAIN: 73\n",
      " 99/100 [============================>.] - ETA: 0s - loss: 0.0118 - acc: 0.9871Epoch 00085: val_loss did not improve\n",
      "100/100 [==============================] - 25s - loss: 0.0117 - acc: 0.9872 - val_loss: 0.0318 - val_acc: 0.9688\n",
      "Epoch 87/10000\n",
      " 61/100 [=================>............] - ETA: 9s - loss: 0.0146 - acc: 0.9841 TRAIN: 116\n",
      " 99/100 [============================>.] - ETA: 0s - loss: 0.0133 - acc: 0.9852Epoch 00086: val_loss did not improve\n",
      "100/100 [==============================] - 25s - loss: 0.0131 - acc: 0.9853 - val_loss: 0.0078 - val_acc: 1.0000\n",
      "Epoch 88/10000\n",
      " 99/100 [============================>.] - ETA: 0s - loss: 0.0154 - acc: 0.9833Epoch 00087: val_loss did not improve\n",
      "100/100 [==============================] - 26s - loss: 0.0154 - acc: 0.9831 - val_loss: 4.1859e-04 - val_acc: 1.0000\n",
      "Epoch 89/10000\n",
      " 17/100 [====>.........................] - ETA: 20s - loss: 0.0135 - acc: 0.9835TRAIN: 15\n",
      " 99/100 [============================>.] - ETA: 0s - loss: 0.0121 - acc: 0.9864Epoch 00088: val_loss did not improve\n",
      "100/100 [==============================] - 25s - loss: 0.0123 - acc: 0.9862 - val_loss: 0.0303 - val_acc: 0.9688\n",
      "Epoch 90/10000\n",
      " 73/100 [====================>.........] - ETA: 7s - loss: 0.0130 - acc: 0.9842TRAIN: 104\n",
      " 99/100 [============================>.] - ETA: 0s - loss: 0.0139 - acc: 0.9839Epoch 00089: val_loss did not improve\n",
      "100/100 [==============================] - 27s - loss: 0.0139 - acc: 0.9838 - val_loss: 0.0407 - val_acc: 0.9688\n",
      "Epoch 91/10000\n",
      " 99/100 [============================>.] - ETA: 0s - loss: 0.0116 - acc: 0.9867Epoch 00090: val_loss did not improve\n",
      "100/100 [==============================] - 25s - loss: 0.0115 - acc: 0.9869 - val_loss: 0.0031 - val_acc: 1.0000\n",
      "Epoch 92/10000\n",
      " 32/100 [========>.....................] - ETA: 17s - loss: 0.0135 - acc: 0.9854TRAIN: 71\n",
      " 99/100 [============================>.] - ETA: 0s - loss: 0.0107 - acc: 0.9883Epoch 00091: val_loss did not improve\n",
      "100/100 [==============================] - 27s - loss: 0.0107 - acc: 0.9884 - val_loss: 0.0451 - val_acc: 0.9375\n",
      "Epoch 93/10000\n",
      " 89/100 [=========================>....] - ETA: 2s - loss: 0.0149 - acc: 0.9831TRAIN: 140\n",
      " 99/100 [============================>.] - ETA: 0s - loss: 0.0146 - acc: 0.9830Epoch 00092: val_loss improved from 0.00000 to 0.00000, saving model to ./best_model.hdf5\n",
      "100/100 [==============================] - 25s - loss: 0.0144 - acc: 0.9831 - val_loss: 1.0502e-06 - val_acc: 1.0000\n",
      "Epoch 94/10000\n",
      " 99/100 [============================>.] - ETA: 0s - loss: 0.0101 - acc: 0.9883Epoch 00093: val_loss did not improve\n",
      "100/100 [==============================] - 26s - loss: 0.0100 - acc: 0.9884 - val_loss: 0.0021 - val_acc: 1.0000\n",
      "Epoch 95/10000\n",
      " 45/100 [============>.................] - ETA: 14s - loss: 0.0149 - acc: 0.9826TRAIN: 11\n",
      " 99/100 [============================>.] - ETA: 0s - loss: 0.0127 - acc: 0.9858Epoch 00094: val_loss did not improve\n",
      "100/100 [==============================] - 25s - loss: 0.0130 - acc: 0.9853 - val_loss: 0.0460 - val_acc: 0.9375\n",
      "Epoch 96/10000\n",
      " 99/100 [============================>.] - ETA: 0s - loss: 0.0093 - acc: 0.9896Epoch 00095: val_loss did not improve\n",
      "100/100 [==============================] - 26s - loss: 0.0092 - acc: 0.9897 - val_loss: 0.0146 - val_acc: 0.9688\n",
      "Epoch 97/10000\n",
      "  7/100 [=>............................] - ETA: 22s - loss: 0.0124 - acc: 0.9866TRAIN: 147\n",
      " 99/100 [============================>.] - ETA: 0s - loss: 0.0138 - acc: 0.9830Epoch 00096: val_loss did not improve\n",
      "100/100 [==============================] - 25s - loss: 0.0137 - acc: 0.9831 - val_loss: 0.0090 - val_acc: 0.9688\n",
      "Epoch 98/10000\n",
      " 63/100 [=================>............] - ETA: 9s - loss: 0.0109 - acc: 0.9891TRAIN: 18\n",
      " 99/100 [============================>.] - ETA: 0s - loss: 0.0130 - acc: 0.9852Epoch 00097: val_loss did not improve\n",
      "100/100 [==============================] - 27s - loss: 0.0129 - acc: 0.9853 - val_loss: 0.0313 - val_acc: 0.9688\n",
      "Epoch 99/10000\n",
      " 99/100 [============================>.] - ETA: 0s - loss: 0.0108 - acc: 0.9880Epoch 00098: val_loss did not improve\n",
      "100/100 [==============================] - 24s - loss: 0.0107 - acc: 0.9881 - val_loss: 0.0312 - val_acc: 0.9688\n",
      "Epoch 100/10000\n",
      " 21/100 [=====>........................] - ETA: 19s - loss: 0.0102 - acc: 0.9911TRAIN: 45\n",
      " 99/100 [============================>.] - ETA: 0s - loss: 0.0121 - acc: 0.9871Epoch 00099: val_loss did not improve\n",
      "100/100 [==============================] - 25s - loss: 0.0125 - acc: 0.9866 - val_loss: 3.8189e-05 - val_acc: 1.0000\n",
      "Epoch 101/10000\n",
      " 77/100 [======================>.......] - ETA: 6s - loss: 0.0102 - acc: 0.9882TRAIN: 84\n",
      " 99/100 [============================>.] - ETA: 0s - loss: 0.0103 - acc: 0.9883Epoch 00100: val_loss did not improve\n",
      "100/100 [==============================] - 26s - loss: 0.0101 - acc: 0.9884 - val_loss: 0.0320 - val_acc: 0.9688\n",
      "Epoch 102/10000\n",
      " 99/100 [============================>.] - ETA: 0s - loss: 0.0127 - acc: 0.9855Epoch 00101: val_loss did not improve\n",
      "100/100 [==============================] - 25s - loss: 0.0127 - acc: 0.9853 - val_loss: 0.0024 - val_acc: 1.0000\n",
      "Epoch 103/10000\n",
      " 33/100 [========>.....................] - ETA: 16s - loss: 0.0086 - acc: 0.9896TRAIN: \n",
      " 99/100 [============================>.] - ETA: 0s - loss: 0.0085 - acc: 0.9905Epoch 00102: val_loss did not improve\n",
      "100/100 [==============================] - 27s - loss: 0.0084 - acc: 0.9906 - val_loss: 0.0308 - val_acc: 0.9688\n",
      "Epoch 104/10000\n",
      " 89/100 [=========================>....] - ETA: 2s - loss: 0.0094 - acc: 0.9888TRAIN: 16\n",
      " 99/100 [============================>.] - ETA: 0s - loss: 0.0094 - acc: 0.9890Epoch 00103: val_loss did not improve\n",
      "100/100 [==============================] - 26s - loss: 0.0096 - acc: 0.9887 - val_loss: 8.1394e-06 - val_acc: 1.0000\n",
      "Epoch 105/10000\n",
      " 99/100 [============================>.] - ETA: 0s - loss: 0.0206 - acc: 0.9779Epoch 00104: val_loss did not improve\n",
      "100/100 [==============================] - 32s - loss: 0.0204 - acc: 0.9781 - val_loss: 0.0576 - val_acc: 0.9375\n",
      "Epoch 106/10000\n",
      " 49/100 [=============>................] - ETA: 12s - loss: 0.0147 - acc: 0.9847TRAIN: 127\n"
     ]
    },
    {
     "name": "stdout",
     "output_type": "stream",
     "text": [
      " 99/100 [============================>.] - ETA: 0s - loss: 0.0159 - acc: 0.9820Epoch 00105: val_loss did not improve\n",
      "100/100 [==============================] - 24s - loss: 0.0158 - acc: 0.9822 - val_loss: 1.6412e-06 - val_acc: 1.0000\n",
      "Epoch 107/10000\n",
      " 99/100 [============================>.] - ETA: 0s - loss: 0.0149 - acc: 0.9830Epoch 00106: val_loss did not improve\n",
      "100/100 [==============================] - 25s - loss: 0.0148 - acc: 0.9828 - val_loss: 0.0369 - val_acc: 0.9375\n",
      "Epoch 108/10000\n",
      "  6/100 [>.............................] - ETA: 20s - loss: 0.0115 - acc: 0.9844TRAIN: 132\n",
      " 99/100 [============================>.] - ETA: 0s - loss: 0.0114 - acc: 0.9877Epoch 00107: val_loss did not improve\n",
      "100/100 [==============================] - 24s - loss: 0.0113 - acc: 0.9878 - val_loss: 0.0353 - val_acc: 0.9688\n",
      "Epoch 109/10000\n",
      " 62/100 [=================>............] - ETA: 9s - loss: 0.0133 - acc: 0.9864 TRAIN: 99\n",
      " 99/100 [============================>.] - ETA: 0s - loss: 0.0134 - acc: 0.9848Epoch 00108: val_loss did not improve\n",
      "100/100 [==============================] - 29s - loss: 0.0133 - acc: 0.9850 - val_loss: 0.0313 - val_acc: 0.9688\n",
      "Epoch 110/10000\n",
      " 99/100 [============================>.] - ETA: 0s - loss: 0.0144 - acc: 0.9848Epoch 00109: val_loss did not improve\n",
      "100/100 [==============================] - 25s - loss: 0.0143 - acc: 0.9850 - val_loss: 1.2981e-04 - val_acc: 1.0000\n",
      "Epoch 111/10000\n",
      " 22/100 [=====>........................] - ETA: 19s - loss: 0.0219 - acc: 0.9759TRAIN: 86\n",
      " 99/100 [============================>.] - ETA: 0s - loss: 0.0132 - acc: 0.9845Epoch 00110: val_loss did not improve\n",
      "100/100 [==============================] - 26s - loss: 0.0134 - acc: 0.9844 - val_loss: 0.0304 - val_acc: 0.9688\n",
      "Epoch 112/10000\n",
      " 78/100 [======================>.......] - ETA: 5s - loss: 0.0090 - acc: 0.9900TRAIN: 110\n",
      " 99/100 [============================>.] - ETA: 0s - loss: 0.0095 - acc: 0.9890VALID: 228\n",
      "Epoch 00111: val_loss did not improve\n",
      "100/100 [==============================] - 28s - loss: 0.0094 - acc: 0.9891 - val_loss: 4.6445e-05 - val_acc: 1.0000\n",
      "Epoch 113/10000\n",
      " 99/100 [============================>.] - ETA: 0s - loss: 0.0098 - acc: 0.9890Epoch 00112: val_loss did not improve\n",
      "100/100 [==============================] - 24s - loss: 0.0097 - acc: 0.9891 - val_loss: 0.0014 - val_acc: 1.0000\n",
      "Epoch 114/10000\n",
      " 37/100 [==========>...................] - ETA: 17s - loss: 0.0100 - acc: 0.9882TRAIN: 105\n",
      " 99/100 [============================>.] - ETA: 0s - loss: 0.0092 - acc: 0.9893Epoch 00113: val_loss did not improve\n",
      "100/100 [==============================] - 29s - loss: 0.0091 - acc: 0.9894 - val_loss: 3.0358e-05 - val_acc: 1.0000\n",
      "Epoch 115/10000\n",
      " 97/100 [============================>.] - ETA: 0s - loss: 0.0129 - acc: 0.9852TRAIN: 31\n",
      " 99/100 [============================>.] - ETA: 0s - loss: 0.0127 - acc: 0.9855Epoch 00114: val_loss did not improve\n",
      "100/100 [==============================] - 25s - loss: 0.0125 - acc: 0.9856 - val_loss: 0.0364 - val_acc: 0.9688\n",
      "Epoch 116/10000\n",
      " 99/100 [============================>.] - ETA: 0s - loss: 0.0107 - acc: 0.9864Epoch 00115: val_loss did not improve\n",
      "100/100 [==============================] - 29s - loss: 0.0109 - acc: 0.9862 - val_loss: 2.5015e-04 - val_acc: 1.0000\n",
      "Epoch 117/10000\n",
      " 55/100 [===============>..............] - ETA: 11s - loss: 0.0080 - acc: 0.9915TRAIN: 139\n",
      " 81/100 [=======================>......] - ETA: 4s - loss: 0.0084 - acc: 0.9907"
     ]
    },
    {
     "ename": "KeyboardInterrupt",
     "evalue": "",
     "output_type": "error",
     "traceback": [
      "\u001b[0;31m---------------------------------------------------------------------------\u001b[0m",
      "\u001b[0;31mKeyboardInterrupt\u001b[0m                         Traceback (most recent call last)",
      "\u001b[0;32m<ipython-input-29-3cd5a793ba8f>\u001b[0m in \u001b[0;36m<module>\u001b[0;34m()\u001b[0m\n\u001b[1;32m     16\u001b[0m                     \u001b[0;31m#datagen.flow(X_train, Y_train, batch_size=batch_size),\u001b[0m\u001b[0;34m\u001b[0m\u001b[0;34m\u001b[0m\u001b[0m\n\u001b[1;32m     17\u001b[0m                     \u001b[0mepochs\u001b[0m\u001b[0;34m=\u001b[0m\u001b[0mepochs\u001b[0m\u001b[0;34m,\u001b[0m \u001b[0msteps_per_epoch\u001b[0m\u001b[0;34m=\u001b[0m\u001b[0;36m100\u001b[0m\u001b[0;34m,\u001b[0m\u001b[0;34m\u001b[0m\u001b[0m\n\u001b[0;32m---> 18\u001b[0;31m                     callbacks=[early_stopping, checkpointing], workers=1)\n\u001b[0m",
      "\u001b[0;32m/Users/dreiss/miniconda3/lib/python3.6/site-packages/keras/legacy/interfaces.py\u001b[0m in \u001b[0;36mwrapper\u001b[0;34m(*args, **kwargs)\u001b[0m\n\u001b[1;32m     86\u001b[0m                 warnings.warn('Update your `' + object_name +\n\u001b[1;32m     87\u001b[0m                               '` call to the Keras 2 API: ' + signature, stacklevel=2)\n\u001b[0;32m---> 88\u001b[0;31m             \u001b[0;32mreturn\u001b[0m \u001b[0mfunc\u001b[0m\u001b[0;34m(\u001b[0m\u001b[0;34m*\u001b[0m\u001b[0margs\u001b[0m\u001b[0;34m,\u001b[0m \u001b[0;34m**\u001b[0m\u001b[0mkwargs\u001b[0m\u001b[0;34m)\u001b[0m\u001b[0;34m\u001b[0m\u001b[0m\n\u001b[0m\u001b[1;32m     89\u001b[0m         \u001b[0mwrapper\u001b[0m\u001b[0;34m.\u001b[0m\u001b[0m_legacy_support_signature\u001b[0m \u001b[0;34m=\u001b[0m \u001b[0minspect\u001b[0m\u001b[0;34m.\u001b[0m\u001b[0mgetargspec\u001b[0m\u001b[0;34m(\u001b[0m\u001b[0mfunc\u001b[0m\u001b[0;34m)\u001b[0m\u001b[0;34m\u001b[0m\u001b[0m\n\u001b[1;32m     90\u001b[0m         \u001b[0;32mreturn\u001b[0m \u001b[0mwrapper\u001b[0m\u001b[0;34m\u001b[0m\u001b[0m\n",
      "\u001b[0;32m/Users/dreiss/miniconda3/lib/python3.6/site-packages/keras/models.py\u001b[0m in \u001b[0;36mfit_generator\u001b[0;34m(self, generator, steps_per_epoch, epochs, verbose, callbacks, validation_data, validation_steps, class_weight, max_q_size, workers, pickle_safe, initial_epoch)\u001b[0m\n\u001b[1;32m   1095\u001b[0m                                         \u001b[0mworkers\u001b[0m\u001b[0;34m=\u001b[0m\u001b[0mworkers\u001b[0m\u001b[0;34m,\u001b[0m\u001b[0;34m\u001b[0m\u001b[0m\n\u001b[1;32m   1096\u001b[0m                                         \u001b[0mpickle_safe\u001b[0m\u001b[0;34m=\u001b[0m\u001b[0mpickle_safe\u001b[0m\u001b[0;34m,\u001b[0m\u001b[0;34m\u001b[0m\u001b[0m\n\u001b[0;32m-> 1097\u001b[0;31m                                         initial_epoch=initial_epoch)\n\u001b[0m\u001b[1;32m   1098\u001b[0m \u001b[0;34m\u001b[0m\u001b[0m\n\u001b[1;32m   1099\u001b[0m     \u001b[0;34m@\u001b[0m\u001b[0minterfaces\u001b[0m\u001b[0;34m.\u001b[0m\u001b[0mlegacy_generator_methods_support\u001b[0m\u001b[0;34m\u001b[0m\u001b[0m\n",
      "\u001b[0;32m/Users/dreiss/miniconda3/lib/python3.6/site-packages/keras/legacy/interfaces.py\u001b[0m in \u001b[0;36mwrapper\u001b[0;34m(*args, **kwargs)\u001b[0m\n\u001b[1;32m     86\u001b[0m                 warnings.warn('Update your `' + object_name +\n\u001b[1;32m     87\u001b[0m                               '` call to the Keras 2 API: ' + signature, stacklevel=2)\n\u001b[0;32m---> 88\u001b[0;31m             \u001b[0;32mreturn\u001b[0m \u001b[0mfunc\u001b[0m\u001b[0;34m(\u001b[0m\u001b[0;34m*\u001b[0m\u001b[0margs\u001b[0m\u001b[0;34m,\u001b[0m \u001b[0;34m**\u001b[0m\u001b[0mkwargs\u001b[0m\u001b[0;34m)\u001b[0m\u001b[0;34m\u001b[0m\u001b[0m\n\u001b[0m\u001b[1;32m     89\u001b[0m         \u001b[0mwrapper\u001b[0m\u001b[0;34m.\u001b[0m\u001b[0m_legacy_support_signature\u001b[0m \u001b[0;34m=\u001b[0m \u001b[0minspect\u001b[0m\u001b[0;34m.\u001b[0m\u001b[0mgetargspec\u001b[0m\u001b[0;34m(\u001b[0m\u001b[0mfunc\u001b[0m\u001b[0;34m)\u001b[0m\u001b[0;34m\u001b[0m\u001b[0m\n\u001b[1;32m     90\u001b[0m         \u001b[0;32mreturn\u001b[0m \u001b[0mwrapper\u001b[0m\u001b[0;34m\u001b[0m\u001b[0m\n",
      "\u001b[0;32m/Users/dreiss/miniconda3/lib/python3.6/site-packages/keras/engine/training.py\u001b[0m in \u001b[0;36mfit_generator\u001b[0;34m(self, generator, steps_per_epoch, epochs, verbose, callbacks, validation_data, validation_steps, class_weight, max_q_size, workers, pickle_safe, initial_epoch)\u001b[0m\n\u001b[1;32m   1874\u001b[0m                     outs = self.train_on_batch(x, y,\n\u001b[1;32m   1875\u001b[0m                                                \u001b[0msample_weight\u001b[0m\u001b[0;34m=\u001b[0m\u001b[0msample_weight\u001b[0m\u001b[0;34m,\u001b[0m\u001b[0;34m\u001b[0m\u001b[0m\n\u001b[0;32m-> 1876\u001b[0;31m                                                class_weight=class_weight)\n\u001b[0m\u001b[1;32m   1877\u001b[0m \u001b[0;34m\u001b[0m\u001b[0m\n\u001b[1;32m   1878\u001b[0m                     \u001b[0;32mif\u001b[0m \u001b[0;32mnot\u001b[0m \u001b[0misinstance\u001b[0m\u001b[0;34m(\u001b[0m\u001b[0mouts\u001b[0m\u001b[0;34m,\u001b[0m \u001b[0mlist\u001b[0m\u001b[0;34m)\u001b[0m\u001b[0;34m:\u001b[0m\u001b[0;34m\u001b[0m\u001b[0m\n",
      "\u001b[0;32m/Users/dreiss/miniconda3/lib/python3.6/site-packages/keras/engine/training.py\u001b[0m in \u001b[0;36mtrain_on_batch\u001b[0;34m(self, x, y, sample_weight, class_weight)\u001b[0m\n\u001b[1;32m   1618\u001b[0m             \u001b[0mins\u001b[0m \u001b[0;34m=\u001b[0m \u001b[0mx\u001b[0m \u001b[0;34m+\u001b[0m \u001b[0my\u001b[0m \u001b[0;34m+\u001b[0m \u001b[0msample_weights\u001b[0m\u001b[0;34m\u001b[0m\u001b[0m\n\u001b[1;32m   1619\u001b[0m         \u001b[0mself\u001b[0m\u001b[0;34m.\u001b[0m\u001b[0m_make_train_function\u001b[0m\u001b[0;34m(\u001b[0m\u001b[0;34m)\u001b[0m\u001b[0;34m\u001b[0m\u001b[0m\n\u001b[0;32m-> 1620\u001b[0;31m         \u001b[0moutputs\u001b[0m \u001b[0;34m=\u001b[0m \u001b[0mself\u001b[0m\u001b[0;34m.\u001b[0m\u001b[0mtrain_function\u001b[0m\u001b[0;34m(\u001b[0m\u001b[0mins\u001b[0m\u001b[0;34m)\u001b[0m\u001b[0;34m\u001b[0m\u001b[0m\n\u001b[0m\u001b[1;32m   1621\u001b[0m         \u001b[0;32mif\u001b[0m \u001b[0mlen\u001b[0m\u001b[0;34m(\u001b[0m\u001b[0moutputs\u001b[0m\u001b[0;34m)\u001b[0m \u001b[0;34m==\u001b[0m \u001b[0;36m1\u001b[0m\u001b[0;34m:\u001b[0m\u001b[0;34m\u001b[0m\u001b[0m\n\u001b[1;32m   1622\u001b[0m             \u001b[0;32mreturn\u001b[0m \u001b[0moutputs\u001b[0m\u001b[0;34m[\u001b[0m\u001b[0;36m0\u001b[0m\u001b[0;34m]\u001b[0m\u001b[0;34m\u001b[0m\u001b[0m\n",
      "\u001b[0;32m/Users/dreiss/miniconda3/lib/python3.6/site-packages/keras/backend/tensorflow_backend.py\u001b[0m in \u001b[0;36m__call__\u001b[0;34m(self, inputs)\u001b[0m\n\u001b[1;32m   2071\u001b[0m         \u001b[0msession\u001b[0m \u001b[0;34m=\u001b[0m \u001b[0mget_session\u001b[0m\u001b[0;34m(\u001b[0m\u001b[0;34m)\u001b[0m\u001b[0;34m\u001b[0m\u001b[0m\n\u001b[1;32m   2072\u001b[0m         updated = session.run(self.outputs + [self.updates_op],\n\u001b[0;32m-> 2073\u001b[0;31m                               feed_dict=feed_dict)\n\u001b[0m\u001b[1;32m   2074\u001b[0m         \u001b[0;32mreturn\u001b[0m \u001b[0mupdated\u001b[0m\u001b[0;34m[\u001b[0m\u001b[0;34m:\u001b[0m\u001b[0mlen\u001b[0m\u001b[0;34m(\u001b[0m\u001b[0mself\u001b[0m\u001b[0;34m.\u001b[0m\u001b[0moutputs\u001b[0m\u001b[0;34m)\u001b[0m\u001b[0;34m]\u001b[0m\u001b[0;34m\u001b[0m\u001b[0m\n\u001b[1;32m   2075\u001b[0m \u001b[0;34m\u001b[0m\u001b[0m\n",
      "\u001b[0;32m/Users/dreiss/miniconda3/lib/python3.6/site-packages/tensorflow/python/client/session.py\u001b[0m in \u001b[0;36mrun\u001b[0;34m(self, fetches, feed_dict, options, run_metadata)\u001b[0m\n\u001b[1;32m    765\u001b[0m     \u001b[0;32mtry\u001b[0m\u001b[0;34m:\u001b[0m\u001b[0;34m\u001b[0m\u001b[0m\n\u001b[1;32m    766\u001b[0m       result = self._run(None, fetches, feed_dict, options_ptr,\n\u001b[0;32m--> 767\u001b[0;31m                          run_metadata_ptr)\n\u001b[0m\u001b[1;32m    768\u001b[0m       \u001b[0;32mif\u001b[0m \u001b[0mrun_metadata\u001b[0m\u001b[0;34m:\u001b[0m\u001b[0;34m\u001b[0m\u001b[0m\n\u001b[1;32m    769\u001b[0m         \u001b[0mproto_data\u001b[0m \u001b[0;34m=\u001b[0m \u001b[0mtf_session\u001b[0m\u001b[0;34m.\u001b[0m\u001b[0mTF_GetBuffer\u001b[0m\u001b[0;34m(\u001b[0m\u001b[0mrun_metadata_ptr\u001b[0m\u001b[0;34m)\u001b[0m\u001b[0;34m\u001b[0m\u001b[0m\n",
      "\u001b[0;32m/Users/dreiss/miniconda3/lib/python3.6/site-packages/tensorflow/python/client/session.py\u001b[0m in \u001b[0;36m_run\u001b[0;34m(self, handle, fetches, feed_dict, options, run_metadata)\u001b[0m\n\u001b[1;32m    963\u001b[0m     \u001b[0;32mif\u001b[0m \u001b[0mfinal_fetches\u001b[0m \u001b[0;32mor\u001b[0m \u001b[0mfinal_targets\u001b[0m\u001b[0;34m:\u001b[0m\u001b[0;34m\u001b[0m\u001b[0m\n\u001b[1;32m    964\u001b[0m       results = self._do_run(handle, final_targets, final_fetches,\n\u001b[0;32m--> 965\u001b[0;31m                              feed_dict_string, options, run_metadata)\n\u001b[0m\u001b[1;32m    966\u001b[0m     \u001b[0;32melse\u001b[0m\u001b[0;34m:\u001b[0m\u001b[0;34m\u001b[0m\u001b[0m\n\u001b[1;32m    967\u001b[0m       \u001b[0mresults\u001b[0m \u001b[0;34m=\u001b[0m \u001b[0;34m[\u001b[0m\u001b[0;34m]\u001b[0m\u001b[0;34m\u001b[0m\u001b[0m\n",
      "\u001b[0;32m/Users/dreiss/miniconda3/lib/python3.6/site-packages/tensorflow/python/client/session.py\u001b[0m in \u001b[0;36m_do_run\u001b[0;34m(self, handle, target_list, fetch_list, feed_dict, options, run_metadata)\u001b[0m\n\u001b[1;32m   1013\u001b[0m     \u001b[0;32mif\u001b[0m \u001b[0mhandle\u001b[0m \u001b[0;32mis\u001b[0m \u001b[0;32mNone\u001b[0m\u001b[0;34m:\u001b[0m\u001b[0;34m\u001b[0m\u001b[0m\n\u001b[1;32m   1014\u001b[0m       return self._do_call(_run_fn, self._session, feed_dict, fetch_list,\n\u001b[0;32m-> 1015\u001b[0;31m                            target_list, options, run_metadata)\n\u001b[0m\u001b[1;32m   1016\u001b[0m     \u001b[0;32melse\u001b[0m\u001b[0;34m:\u001b[0m\u001b[0;34m\u001b[0m\u001b[0m\n\u001b[1;32m   1017\u001b[0m       return self._do_call(_prun_fn, self._session, handle, feed_dict,\n",
      "\u001b[0;32m/Users/dreiss/miniconda3/lib/python3.6/site-packages/tensorflow/python/client/session.py\u001b[0m in \u001b[0;36m_do_call\u001b[0;34m(self, fn, *args)\u001b[0m\n\u001b[1;32m   1020\u001b[0m   \u001b[0;32mdef\u001b[0m \u001b[0m_do_call\u001b[0m\u001b[0;34m(\u001b[0m\u001b[0mself\u001b[0m\u001b[0;34m,\u001b[0m \u001b[0mfn\u001b[0m\u001b[0;34m,\u001b[0m \u001b[0;34m*\u001b[0m\u001b[0margs\u001b[0m\u001b[0;34m)\u001b[0m\u001b[0;34m:\u001b[0m\u001b[0;34m\u001b[0m\u001b[0m\n\u001b[1;32m   1021\u001b[0m     \u001b[0;32mtry\u001b[0m\u001b[0;34m:\u001b[0m\u001b[0;34m\u001b[0m\u001b[0m\n\u001b[0;32m-> 1022\u001b[0;31m       \u001b[0;32mreturn\u001b[0m \u001b[0mfn\u001b[0m\u001b[0;34m(\u001b[0m\u001b[0;34m*\u001b[0m\u001b[0margs\u001b[0m\u001b[0;34m)\u001b[0m\u001b[0;34m\u001b[0m\u001b[0m\n\u001b[0m\u001b[1;32m   1023\u001b[0m     \u001b[0;32mexcept\u001b[0m \u001b[0merrors\u001b[0m\u001b[0;34m.\u001b[0m\u001b[0mOpError\u001b[0m \u001b[0;32mas\u001b[0m \u001b[0me\u001b[0m\u001b[0;34m:\u001b[0m\u001b[0;34m\u001b[0m\u001b[0m\n\u001b[1;32m   1024\u001b[0m       \u001b[0mmessage\u001b[0m \u001b[0;34m=\u001b[0m \u001b[0mcompat\u001b[0m\u001b[0;34m.\u001b[0m\u001b[0mas_text\u001b[0m\u001b[0;34m(\u001b[0m\u001b[0me\u001b[0m\u001b[0;34m.\u001b[0m\u001b[0mmessage\u001b[0m\u001b[0;34m)\u001b[0m\u001b[0;34m\u001b[0m\u001b[0m\n",
      "\u001b[0;32m/Users/dreiss/miniconda3/lib/python3.6/site-packages/tensorflow/python/client/session.py\u001b[0m in \u001b[0;36m_run_fn\u001b[0;34m(session, feed_dict, fetch_list, target_list, options, run_metadata)\u001b[0m\n\u001b[1;32m   1002\u001b[0m         return tf_session.TF_Run(session, options,\n\u001b[1;32m   1003\u001b[0m                                  \u001b[0mfeed_dict\u001b[0m\u001b[0;34m,\u001b[0m \u001b[0mfetch_list\u001b[0m\u001b[0;34m,\u001b[0m \u001b[0mtarget_list\u001b[0m\u001b[0;34m,\u001b[0m\u001b[0;34m\u001b[0m\u001b[0m\n\u001b[0;32m-> 1004\u001b[0;31m                                  status, run_metadata)\n\u001b[0m\u001b[1;32m   1005\u001b[0m \u001b[0;34m\u001b[0m\u001b[0m\n\u001b[1;32m   1006\u001b[0m     \u001b[0;32mdef\u001b[0m \u001b[0m_prun_fn\u001b[0m\u001b[0;34m(\u001b[0m\u001b[0msession\u001b[0m\u001b[0;34m,\u001b[0m \u001b[0mhandle\u001b[0m\u001b[0;34m,\u001b[0m \u001b[0mfeed_dict\u001b[0m\u001b[0;34m,\u001b[0m \u001b[0mfetch_list\u001b[0m\u001b[0;34m)\u001b[0m\u001b[0;34m:\u001b[0m\u001b[0;34m\u001b[0m\u001b[0m\n",
      "\u001b[0;31mKeyboardInterrupt\u001b[0m: "
     ]
    }
   ],
   "source": [
    "epochs = 10000\n",
    "\n",
    "model = make_model(compile=True, epochs=epochs, lrate=0.01, decay=None)\n",
    "\n",
    "train_generator = data_generator_train()\n",
    "valid_generator = data_generator_valid()\n",
    "\n",
    "from keras.callbacks import EarlyStopping, ModelCheckpoint\n",
    "early_stopping = EarlyStopping(monitor='val_loss', patience=1000)\n",
    "checkpointing = ModelCheckpoint('./best_model.hdf5', monitor='val_loss', verbose=1, \n",
    "                                save_best_only=True, save_weights_only=False, \n",
    "                                mode='auto', period=1)\n",
    "\n",
    "model.fit_generator(generator=train_generator, \n",
    "                    validation_data = valid_generator, validation_steps=1,\n",
    "                    #datagen.flow(X_train, Y_train, batch_size=batch_size), \n",
    "                    epochs=epochs, steps_per_epoch=100,\n",
    "                    callbacks=[early_stopping, checkpointing], workers=1)"
   ]
  },
  {
   "cell_type": "code",
   "execution_count": 34,
   "metadata": {},
   "outputs": [
    {
     "name": "stdout",
     "output_type": "stream",
     "text": [
      "TEST: 270\n",
      "TEST: 239\n",
      "TEST: 258\n",
      "TEST: 245\n",
      "Test loss: 0.00991866988396\n",
      "Test accuracy: 0.9885625\n"
     ]
    }
   ],
   "source": [
    "test_generator = data_generator_test()\n",
    "score = model.evaluate_generator(test_generator, steps=500)\n",
    "print('Test loss:', score[0])\n",
    "print('Test accuracy:', score[1])"
   ]
  },
  {
   "cell_type": "code",
   "execution_count": 53,
   "metadata": {},
   "outputs": [
    {
     "name": "stdout",
     "output_type": "stream",
     "text": [
      "5120/5120 [==============================] - 16s    \n",
      "             precision    recall  f1-score   support\n",
      "\n",
      "          0       1.00      0.99      0.99      2560\n",
      "          1       0.99      1.00      0.99      2560\n",
      "\n",
      "avg / total       0.99      0.99      0.99      5120\n",
      "\n"
     ]
    },
    {
     "data": {
      "text/plain": [
       "<matplotlib.text.Text at 0x10f0fea90>"
      ]
     },
     "execution_count": 53,
     "metadata": {},
     "output_type": "execute_result"
    },
    {
     "data": {
      "image/png": "[encoded data removed]",
      "text/plain": [
       "<matplotlib.figure.Figure at 0x10f0bef98>"
      ]
     },
     "metadata": {},
     "output_type": "display_data"
    }
   ],
   "source": [
    "from sklearn import metrics\n",
    "\n",
    "(X_test, Y_test), _, _ = load_pkl_data(235, split_frac=(1.0, 1.0), verbose=False)\n",
    "\n",
    "pred = model.predict_classes(X_test)\n",
    "print(metrics.classification_report(Y_test[:,1].astype(int), pred))\n",
    "\n",
    "fpr, tpr, thresholds = metrics.roc_curve(Y_test[:,1].astype(int), pred)\n",
    "plt.plot(fpr, tpr, label='ROC Curve')\n",
    "plt.xlabel('FPR'); plt.ylabel('TPR (recall)')"
   ]
  },
  {
   "cell_type": "code",
   "execution_count": 57,
   "metadata": {},
   "outputs": [
    {
     "data": {
      "text/plain": [
       "<matplotlib.figure.Figure at 0x10f0dc208>"
      ]
     },
     "metadata": {},
     "output_type": "display_data"
    },
    {
     "data": {
      "image/png": "[encoded data removed]",
      "text/plain": [
       "<matplotlib.figure.Figure at 0x10f031cf8>"
      ]
     },
     "metadata": {},
     "output_type": "display_data"
    }
   ],
   "source": [
    "plot_misclassified(model, pred, Y_test, nmax=10, only_plot_misclassified=True)"
   ]
  },
  {
   "cell_type": "code",
   "execution_count": null,
   "metadata": {
    "collapsed": true
   },
   "outputs": [],
   "source": []
  }
 ],
 "metadata": {
  "kernelspec": {
   "display_name": "Python 3",
   "language": "python",
   "name": "python3"
  },
  "language_info": {
   "codemirror_mode": {
    "name": "ipython",
    "version": 3
   },
   "file_extension": ".py",
   "mimetype": "text/x-python",
   "name": "python",
   "nbconvert_exporter": "python",
   "pygments_lexer": "ipython3",
   "version": "3.6.1"
  }
 },
 "nbformat": 4,
 "nbformat_minor": 1
}
